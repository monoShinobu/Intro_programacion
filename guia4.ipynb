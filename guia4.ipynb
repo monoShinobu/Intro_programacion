{
  "nbformat": 4,
  "nbformat_minor": 0,
  "metadata": {
    "colab": {
      "provenance": []
    },
    "kernelspec": {
      "name": "python3",
      "display_name": "Python 3"
    },
    "language_info": {
      "name": "python"
    }
  },
  "cells": [
    {
      "cell_type": "markdown",
      "source": [
        "**1.Escriba un programa que solicite n´umeros enteros y que los almacene en una lista. El\n",
        "programa debe solicitar n´umeros hasta que se ingrese 0, luego debe imprimir todos\n",
        "los n´umeros ingresados (Excepto el 0) en orden, de menor a mayor, cada valor debe\n",
        "mostrarse por pantalla en una sola linea.**"
      ],
      "metadata": {
        "id": "uN3wlovqlOgz"
      }
    },
    {
      "cell_type": "code",
      "source": [
        "numeros = []\n",
        "\n",
        "while True:\n",
        "  nume = int(input(\"Ingrese numero: \"))\n",
        "  if nume == 0:\n",
        "    break\n",
        "  else:\n",
        "    numeros.append(nume)\n",
        "\n",
        "numeros.sort()\n",
        "\n",
        "for i in range(len(numeros)):\n",
        "  print(numeros[i])"
      ],
      "metadata": {
        "colab": {
          "base_uri": "https://localhost:8080/"
        },
        "id": "SOlpDwSsJ_VY",
        "outputId": "aae9295e-83f9-4ec4-f3af-0de54448a867"
      },
      "execution_count": null,
      "outputs": [
        {
          "output_type": "stream",
          "name": "stdout",
          "text": [
            "Ingrese numero: 2\n",
            "Ingrese numero: 1\n",
            "Ingrese numero: 3\n",
            "Ingrese numero: 5\n",
            "Ingrese numero: -2\n",
            "Ingrese numero: 0\n",
            "-2\n",
            "1\n",
            "2\n",
            "3\n",
            "5\n"
          ]
        }
      ]
    },
    {
      "cell_type": "code",
      "execution_count": null,
      "metadata": {
        "colab": {
          "base_uri": "https://localhost:8080/"
        },
        "id": "iLfTP7xTlK7t",
        "outputId": "6344547a-d049-42ed-e34a-1e0cc67c3774"
      },
      "outputs": [
        {
          "output_type": "stream",
          "name": "stdout",
          "text": [
            "Ingrese numero: 5\n",
            "Ingrese numero: 8\n",
            "Ingrese numero: 9\n",
            "Ingrese numero: -5\n",
            "Ingrese numero: 1\n",
            "Ingrese numero: -23\n",
            "Ingrese numero: 0\n",
            "-23\n",
            "-5\n",
            "1\n",
            "5\n",
            "8\n",
            "9\n"
          ]
        }
      ],
      "source": [
        "numeros = []\n",
        "\n",
        "while True:\n",
        "  num = int(input(\"Ingrese numero: \"))\n",
        "  if num == 0:\n",
        "    break\n",
        "  else:\n",
        "    numeros.append(num)\n",
        "\n",
        "n=len(numeros)\n",
        "\n",
        "while True:\n",
        "  if len(numeros) == 0:\n",
        "    break\n",
        "  menor = numeros[0]                      #1, 8, 5\n",
        "  for i in range(1,len(numeros)):         #-2\n",
        "    if menor > numeros[i]:                # 1 > -2\n",
        "      menor = numeros[i]                  #menor = -2\n",
        "  numeros.remove(menor)\n",
        "  print(menor)\n"
      ]
    },
    {
      "cell_type": "markdown",
      "source": [
        "**2. Escriba un programa que solicite n´umeros enteros y que los almacene en una lista. El\n",
        "programa debe solicitar n´umeros hasta que se ingrese 0, luego debe imprimir todos\n",
        "los n´umeros ingresados (Excepto el 0) en orden, de mayor a menor, cada valor debe\n",
        "mostrarse por pantalla en una sola linea.**"
      ],
      "metadata": {
        "id": "IORkpEyxmX-U"
      }
    },
    {
      "cell_type": "code",
      "source": [
        "numeros = []\n",
        "\n",
        "while True:\n",
        "  numer = int(input(\"Ingrese numero: \"))\n",
        "  if nume == 0:\n",
        "    break\n",
        "  else:\n",
        "    numeros.append(nume)\n",
        "\n",
        "numeros.sort(reverse=True)\n",
        "\n",
        "\n",
        "for i in range(len(numeros)):\n",
        "  print(numeros[i])"
      ],
      "metadata": {
        "colab": {
          "base_uri": "https://localhost:8080/"
        },
        "id": "s9gZR_jJLaa3",
        "outputId": "9f742a85-9dc9-4d00-bd1e-65ece3965b8c"
      },
      "execution_count": null,
      "outputs": [
        {
          "output_type": "stream",
          "name": "stdout",
          "text": [
            "Ingrese numero: 1\n",
            "Ingrese numero: 2\n",
            "Ingrese numero: 3\n",
            "Ingrese numero: -1\n",
            "Ingrese numero: -5\n",
            "Ingrese numero: 1\n",
            "Ingrese numero: 0\n",
            "3\n",
            "2\n",
            "1\n",
            "1\n",
            "-1\n",
            "-5\n"
          ]
        }
      ]
    },
    {
      "cell_type": "code",
      "source": [
        "numeros = []\n",
        "\n",
        "while True:\n",
        "  num = int(input(\"Ingrese numero: \"))\n",
        "  if num == 0:\n",
        "    break\n",
        "  else:\n",
        "    numeros.append(num)\n",
        "\n",
        "numerosOrdenados = []\n",
        "n=len(numeros)\n",
        "\n",
        "while True:\n",
        "  if len(numeros) == 0:\n",
        "    break\n",
        "  mayor = numeros[0]\n",
        "  for i in range(1,len(numeros)):\n",
        "    if mayor < numeros[i]:\n",
        "      mayor = numeros[i]\n",
        "  numeros.remove(mayor)\n",
        "  numerosOrdenados.append(mayor)\n",
        "\n",
        "for i in range(len(numerosOrdenados)):\n",
        "  print(numerosOrdenados[i])"
      ],
      "metadata": {
        "colab": {
          "base_uri": "https://localhost:8080/"
        },
        "id": "c0fJjNvulmHP",
        "outputId": "b8525c3f-dc62-4f56-f2ff-c87145c0794a"
      },
      "execution_count": null,
      "outputs": [
        {
          "output_type": "stream",
          "name": "stdout",
          "text": [
            "Ingrese numero: 5\n",
            "Ingrese numero: 100\n",
            "Ingrese numero: -5\n",
            "Ingrese numero: 8\n",
            "Ingrese numero: 1568\n",
            "Ingrese numero: 3\n",
            "Ingrese numero: 0\n",
            "1568\n",
            "100\n",
            "8\n",
            "5\n",
            "3\n",
            "-5\n"
          ]
        }
      ]
    },
    {
      "cell_type": "markdown",
      "source": [
        "**3. Al analizar datos recolectados en un experimento de ciencia puede ser deseado remover\n",
        "la mayor cantidad de valores extremos (Outliers) antes de realizar c´alculos. Escriba un\n",
        "programa que solicite una lista de n´umeros al usuario y la cantidad de valores extremos\n",
        "a remover (n). Para eliminar los valores extremos, se deben quitar de la lista los n\n",
        "valores mas peque˜nos y los n valores mas grandes de la lista. Despu´es de quitar los\n",
        "valores extremos, se debe mostrar por pantalla los nuevos datos ordenados de menor a\n",
        "mayor.**"
      ],
      "metadata": {
        "id": "j6Ngq9R4q-qm"
      }
    },
    {
      "cell_type": "code",
      "source": [
        "'''\n",
        "cant = int(input(\"cantidad de datos experimento: \"))\n",
        "outliers = int(input(\"cantida de valores extremos (n): \"))\n",
        "\n",
        "listNum = []\n",
        "\n",
        "for i in range(cant):\n",
        "  num = int(input(\"Ingrese numero: \"))\n",
        "  listNum.append(num)\n",
        "'''\n",
        "listNum = [1,5,3,-2,7,5,4,6,4]\n",
        "outliers = 3\n",
        "\n",
        "listNum.sort()\n",
        "\n",
        "print(listNum)\n",
        "\n",
        "if outliers * 2 > len(listNum):\n",
        "  print(\"La cantidad de elementos a eliminar no puede ser mayor a los existentes\")\n",
        "else:\n",
        "  listNum = listNum[outliers : len(listNum) - outliers ]\n",
        "  print(listNum)"
      ],
      "metadata": {
        "colab": {
          "base_uri": "https://localhost:8080/"
        },
        "id": "xeRHlwVbMI9u",
        "outputId": "955f60cb-e449-403b-b44a-0f9e326b2315"
      },
      "execution_count": null,
      "outputs": [
        {
          "output_type": "stream",
          "name": "stdout",
          "text": [
            "[-2, 1, 3, 4, 4, 5, 5, 6, 7]\n",
            "[4, 4, 5, 5, 6, 7]\n"
          ]
        }
      ]
    },
    {
      "cell_type": "markdown",
      "source": [],
      "metadata": {
        "id": "ogaU8Auf7h0l"
      }
    },
    {
      "cell_type": "code",
      "source": [
        "cant = int(input(\"cantidad de datos experimento: \"))\n",
        "outliers = int(input(\"cantida de valores extremos (n): \"))\n",
        "\n",
        "datos = []\n",
        "\n",
        "for i in range(cant):\n",
        "  num = int(input(\"Ingrese numero: \"))\n",
        "  datos.append(num)\n",
        "\n",
        "datos.sort()\n",
        "\n",
        "for i in range(outliers):\n",
        "  del datos[0]\n",
        "  del datos[-1]\n",
        "\n",
        "print(datos)"
      ],
      "metadata": {
        "colab": {
          "base_uri": "https://localhost:8080/"
        },
        "id": "mWRbkRgNrBvM",
        "outputId": "469ce274-ce26-4307-d16c-f1e333e8cab1"
      },
      "execution_count": null,
      "outputs": [
        {
          "name": "stdout",
          "output_type": "stream",
          "text": [
            "cantidad de datos experimento: 10\n",
            "cantida de valores extremos (n): 2\n",
            "Ingrese numero: 1\n",
            "Ingrese numero: 2\n",
            "Ingrese numero: 5\n",
            "Ingrese numero: 9\n",
            "Ingrese numero: -1\n",
            "Ingrese numero: 8\n",
            "Ingrese numero: -58\n",
            "Ingrese numero: 6\n",
            "Ingrese numero: 2\n",
            "Ingrese numero: 4\n"
          ]
        },
        {
          "output_type": "execute_result",
          "data": {
            "text/plain": [
              "[1, 2, 2, 4, 5, 6]"
            ]
          },
          "metadata": {},
          "execution_count": 7
        }
      ]
    },
    {
      "cell_type": "markdown",
      "source": [
        "**4.Escriba un programa que lea palabras ingresadas por el usuario hasta que este ingrese\n",
        "una linea vacía, luego de ingresar la linea vacía se deben imprimir, linea por linea, todos\n",
        "las palabras ingresadas, sin repetirse, en el mismo orden que fueron agregadas.**"
      ],
      "metadata": {
        "id": "kDIFHka0XHAg"
      }
    },
    {
      "cell_type": "code",
      "source": [
        "palabras = [\"jaime\", \"algo\", \"hola\", \"jaime\", \"mundo\", \"algo\", \"jaime\"]\n",
        "newPalabras = []\n",
        "'''\n",
        "while True:\n",
        "  palabra = input(f\"ingrese una palabra: \")\n",
        "  if palabra == \"\":\n",
        "    break\n",
        "  palabras.append(palabra)\n",
        "'''\n",
        "while len(palabras) != 0:\n",
        "  palabrasRepetidas = palabras.count(palabras[0])\n",
        "  palabraABorras = palabras[0]\n",
        "  newPalabras.append(palabras[0])\n",
        "  for i in range(palabrasRepetidas):\n",
        "    palabras.remove(palabraABorras)\n",
        "\n",
        "print(newPalabras)\n"
      ],
      "metadata": {
        "colab": {
          "base_uri": "https://localhost:8080/"
        },
        "id": "Ft3ljtx9OESZ",
        "outputId": "137e3c99-dbb5-4223-d6a1-3009f24e7ad4"
      },
      "execution_count": null,
      "outputs": [
        {
          "output_type": "stream",
          "name": "stdout",
          "text": [
            "['jaime', 'algo', 'hola', 'mundo']\n"
          ]
        }
      ]
    },
    {
      "cell_type": "code",
      "source": [
        "cont = 1\n",
        "palabras = []\n",
        "palabrasNoRepetidas = []\n",
        "\n",
        "while True:\n",
        "  palabra = input(f\"palabra {cont} \")\n",
        "  if palabra == \"\":\n",
        "    break\n",
        "  palabras.append(palabra)\n",
        "  cont += 1\n",
        "\n",
        "while len(palabras) != 0:\n",
        "  palabrasNoRepetidas.append(palabras[0])\n",
        "\n",
        "  palabraABorrar = palabras[0]\n",
        "\n",
        "  for i in range(palabras.count(palabras[0])):\n",
        "    palabras.remove(palabraABorrar)\n",
        "\n",
        "\n",
        "print(palabrasNoRepetidas)\n"
      ],
      "metadata": {
        "colab": {
          "base_uri": "https://localhost:8080/"
        },
        "id": "-QcO0FEBNCn_",
        "outputId": "dfdeb97e-aabe-43d3-ec2e-cad7febd65e8"
      },
      "execution_count": null,
      "outputs": [
        {
          "output_type": "stream",
          "name": "stdout",
          "text": [
            "palabra 1 jaime\n",
            "palabra 2 jaime\n",
            "palabra 3 algo\n",
            "palabra 4 alberto\n",
            "palabra 5 jaime\n",
            "palabra 6 alberto\n",
            "palabra 7 \n",
            "['jaime', 'algo', 'alberto']\n"
          ]
        }
      ]
    },
    {
      "cell_type": "markdown",
      "source": [
        "**5. Escriba un programa que lea n´umeros ingresados por el usuario hasta que este ingrese\n",
        "una linea vac´ıa. Imprima todos los numero ingresados ordenados de menor a mayor, se\n",
        "deben imprimir primero los n´umeros negativos en una linea y como lista, luego los 0 en\n",
        "otra y al final, los n´umeros positivos en una linea y como lista tambi´en, no se permite\n",
        "imprimir linea por linea.**"
      ],
      "metadata": {
        "id": "Y5nFa4Nsa-JD"
      }
    },
    {
      "cell_type": "code",
      "source": [
        "numeros = []\n",
        "\n",
        "while True:\n",
        "  num = input(\"Ingrese numero: \")\n",
        "  if num == \"\":\n",
        "    break\n",
        "  else:\n",
        "    numeros.append(int(num))\n",
        "\n",
        "n=len(numeros)\n",
        "numerosOrdenados = []\n",
        "\n",
        "'''\n",
        "while True:\n",
        "  if len(numeros) == 0:\n",
        "    break\n",
        "  menor = numeros[0]\n",
        "  for i in range(1,len(numeros)):\n",
        "    if menor > numeros[i]:\n",
        "      menor = numeros[i]\n",
        "  numeros.remove(menor)\n",
        "  numerosOrdenados.append(menor)\n",
        "'''\n",
        "numeros.sort()\n",
        "\n",
        "negativos = []\n",
        "cero = []\n",
        "positivos = []\n",
        "\n",
        "for i in range(len(numeros)):\n",
        "  if numeros[i] < 0:\n",
        "    negativos.append(numeros[i])\n",
        "  elif numeros[i] == 0:\n",
        "    cero.append(numeros[i])\n",
        "  else:\n",
        "    positivos.append(numeros[i])\n",
        "\n",
        "print(negativos)\n",
        "print(cero)\n",
        "print(positivos)\n"
      ],
      "metadata": {
        "colab": {
          "base_uri": "https://localhost:8080/"
        },
        "id": "yzkKDKDWbBHh",
        "outputId": "6273e344-5f61-408e-eeef-639670b5e69e"
      },
      "execution_count": null,
      "outputs": [
        {
          "output_type": "stream",
          "name": "stdout",
          "text": [
            "Ingrese numero: 3\n",
            "Ingrese numero: 5\n",
            "Ingrese numero: 7\n",
            "Ingrese numero: 1\n",
            "Ingrese numero: 2\n",
            "Ingrese numero: -3\n",
            "Ingrese numero: -2\n",
            "Ingrese numero: -1\n",
            "Ingrese numero: 0\n",
            "Ingrese numero: 0\n",
            "Ingrese numero: \n",
            "[-3, -2, -1]\n",
            "[0, 0]\n",
            "[1, 2, 3, 5, 7]\n"
          ]
        }
      ]
    },
    {
      "cell_type": "markdown",
      "source": [
        "**6.El divisor propio de un entero positivo n, es un un numero entero positivo menor a n,\n",
        "el cual divide uniformemente a n. Escriba un programa que calcule todos los divisores\n",
        "propios de un entero positivo n ingresado por el usuario y los muestre en una sola linea\n",
        "como lista.**"
      ],
      "metadata": {
        "id": "KuRrCiv-dhqX"
      }
    },
    {
      "cell_type": "code",
      "source": [
        "n = int(input(\"Ingrese un numero \"))\n",
        "\n",
        "divisores = []\n",
        "\n",
        "for i in range(1, n+1):\n",
        "  if n % i == 0:\n",
        "    divisores.append(i)\n",
        "\n",
        "print(f\"Los divisores de {n} son: \")\n",
        "print(divisores)"
      ],
      "metadata": {
        "colab": {
          "base_uri": "https://localhost:8080/"
        },
        "id": "h-jLI31kdj5W",
        "outputId": "9ec9b69b-2842-4e30-9dd5-77112e61991e"
      },
      "execution_count": null,
      "outputs": [
        {
          "output_type": "stream",
          "name": "stdout",
          "text": [
            "Ingrese un numero 16\n",
            "Los divisores de 16 son: \n",
            "[1, 2, 4, 8, 16]\n"
          ]
        }
      ]
    },
    {
      "cell_type": "markdown",
      "source": [
        "**7. Un entero, n, dice ser perfecto cuando la suma de todos sus divisores propios son igual\n",
        "a n. Por ejemplo, los divisores propios de 28 son:**\n",
        "\n",
        "\n",
        "$$28:[1,2,4,7,14]$$\n",
        "\n",
        "**Y la suma:**\n",
        "\n",
        "$$\n",
        "1+2+4+7+14=28\n",
        "$$\n",
        "\n"
      ],
      "metadata": {
        "id": "lW3xMwWKd8LU"
      }
    },
    {
      "cell_type": "code",
      "source": [
        "n = int(input(\"Ingrese un numero \"))\n",
        "\n",
        "divisores = []\n",
        "suma = 0\n",
        "\n",
        "for i in range(1, n):\n",
        "  if n % i == 0:\n",
        "    divisores.append(i)\n",
        "    suma += i\n",
        "\n",
        "print(f\"Los divisores de {n} son: \")\n",
        "print(divisores)\n",
        "print(f\"La suma de los divisores es {suma} por lo tanto\")\n",
        "\n",
        "if suma == n:\n",
        "  print(\"es PERFECTO\")\n",
        "else:\n",
        "  print(\"NO es PERFECTO\")\n"
      ],
      "metadata": {
        "colab": {
          "base_uri": "https://localhost:8080/"
        },
        "id": "JNR3Hjz2eOkI",
        "outputId": "0f0b140c-236a-487d-8cb7-4d89890207df"
      },
      "execution_count": null,
      "outputs": [
        {
          "output_type": "stream",
          "name": "stdout",
          "text": [
            "Ingrese un numero 27\n",
            "Los divisores de 27 son: \n",
            "[1, 3, 9]\n",
            "La suma de los divisores es 13 por lo tanto\n",
            "NO es PERFECTO\n"
          ]
        }
      ]
    },
    {
      "cell_type": "markdown",
      "source": [
        "**8. Realice un programa que solicite un texto al usuario y muestre por pantalla cada palabra\n",
        "del texto como un ´ıtem de una lista.**"
      ],
      "metadata": {
        "id": "ihIXJLQ8e7H2"
      }
    },
    {
      "cell_type": "code",
      "source": [
        "texto = input(\"ingrese texto: \")\n",
        "\n",
        "textoList = texto.split()\n",
        "\n",
        "for i in range(len(textoList)):\n",
        "  for j in range(len(textoList[i])):\n",
        "    asciiChar = ord(textoList[i][j])\n",
        "    if asciiChar < 48 or (asciiChar > 57 and asciiChar < 65) or (asciiChar > 90 and asciiChar < 97) or asciiChar > 122:\n",
        "      textoList[i] = textoList[i].replace(textoList[i][j], \"\")\n",
        "\n",
        "print(textoList)"
      ],
      "metadata": {
        "colab": {
          "base_uri": "https://localhost:8080/"
        },
        "id": "VXYhcTNafLLB",
        "outputId": "2ffffc50-54de-49f0-d722-3bf5d7e91e89"
      },
      "execution_count": null,
      "outputs": [
        {
          "output_type": "stream",
          "name": "stdout",
          "text": [
            "ingrese texto: Ayer tenia mucha hambre, lo que hice fue; primero, compar pan. Segundo, comerlo.\n",
            "['Ayer', 'tenia', 'mucha', 'hambre', 'lo', 'que', 'hice', 'fue', 'primero', 'compar', 'pan', 'Segundo', 'comerlo']\n"
          ]
        }
      ]
    },
    {
      "cell_type": "markdown",
      "source": [
        "**9. Escriba un programa que lea n´umeros ingresados por el usuario hasta que este ingrese\n",
        "una linea vac´ıa. Debe imprimir el promedio de los n´umeros, luego debe mostrar todos\n",
        "los n´umeros ingresados bajo el promedio en una lista ordenada y en otra lista ordenada,\n",
        "los que est´en sobre el promedio.**"
      ],
      "metadata": {
        "id": "28HXDtLdj1TF"
      }
    },
    {
      "cell_type": "code",
      "source": [
        "numeros = []\n",
        "suma = 0\n",
        "\n",
        "while True:\n",
        "  num = input(\"Ingrese numero: \")\n",
        "  if num == \"\":\n",
        "    break\n",
        "  else:\n",
        "    numeros.append(float(num))\n",
        "    suma += float(num)\n",
        "\n",
        "prom = round(suma / float(len(numeros)), 3)\n",
        "\n",
        "print(\"El promedio es: {}\".format(prom))\n",
        "\n",
        "numMenor = []\n",
        "numMayor = []\n",
        "\n",
        "for i in range(len(numeros)):\n",
        "  if numeros[i] < prom:\n",
        "    numMenor.append(numeros[i])\n",
        "  elif numeros[i] > prom:\n",
        "    numMayor.append(numeros[i])\n",
        "\n",
        "numMenor.sort()\n",
        "numMayor.sort()\n",
        "\n",
        "print(\"numeros bajo el promedio: \",numMenor)\n",
        "print(\"numeros sobre el promedio: \", numMayor)\n"
      ],
      "metadata": {
        "colab": {
          "base_uri": "https://localhost:8080/"
        },
        "id": "HLf1wHzyj5Fl",
        "outputId": "6f149c88-3820-4a34-b3f3-46236fbc56c4"
      },
      "execution_count": null,
      "outputs": [
        {
          "output_type": "stream",
          "name": "stdout",
          "text": [
            "Ingrese numero: 6.3\n",
            "Ingrese numero: 2\n",
            "Ingrese numero: 3.3\n",
            "Ingrese numero: 5.8\n",
            "Ingrese numero: 9.8\n",
            "Ingrese numero: 1.6\n",
            "Ingrese numero: 9.3\n",
            "Ingrese numero: 9\n",
            "Ingrese numero: 4.4\n",
            "Ingrese numero: 3.7\n",
            "Ingrese numero: \n",
            "El promedio es: 5.52\n",
            "numeros bajo el promedio:  [1.6, 2.0, 3.3, 3.7, 4.4]\n",
            "numeros sobre el promedio:  [5.8, 6.3, 9.0, 9.3, 9.8]\n"
          ]
        }
      ]
    }
  ]
}