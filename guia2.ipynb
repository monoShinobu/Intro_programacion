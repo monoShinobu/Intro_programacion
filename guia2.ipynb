{
  "nbformat": 4,
  "nbformat_minor": 0,
  "metadata": {
    "colab": {
      "provenance": []
    },
    "kernelspec": {
      "name": "python3",
      "display_name": "Python 3"
    },
    "language_info": {
      "name": "python"
    }
  },
  "cells": [
    {
      "cell_type": "markdown",
      "source": [
        "**1 - Realice un script que pida un numero por pantalla y verifique si es par o impar.**"
      ],
      "metadata": {
        "id": "bcps8vsPtB1_"
      }
    },
    {
      "cell_type": "code",
      "source": [
        "numero = int(input(\"Ingrese el numero: \"))\n",
        "\n",
        "espar = numero % 2\n",
        "\n",
        "if espar == 0:\n",
        "    print(\"El numero es par\")\n",
        "else:\n",
        "    print(\"El numero NO es par\")"
      ],
      "metadata": {
        "colab": {
          "base_uri": "https://localhost:8080/"
        },
        "id": "SPWbUijCtF2f",
        "outputId": "a161e3aa-5af5-4de0-dd69-585d49f9a9ab"
      },
      "execution_count": null,
      "outputs": [
        {
          "output_type": "stream",
          "name": "stdout",
          "text": [
            "Ingrese el numero: 69\n",
            "El numero NO es par\n"
          ]
        }
      ]
    },
    {
      "cell_type": "markdown",
      "source": [
        "**2 - Escriba un programa que reciba un numero entero e indique si es multiplo de 3.**\n"
      ],
      "metadata": {
        "id": "l-x9g0eZuUUd"
      }
    },
    {
      "cell_type": "code",
      "source": [
        "numero = int(input(\"Ingrese el numero: \"))\n",
        "\n",
        "multiplo = numero % 3\n",
        "\n",
        "if multiplo == 0:\n",
        "    print(\"El numero es multiplo de 3\")\n",
        "else:\n",
        "    print(\"El numero NO es multiplo de 3\")"
      ],
      "metadata": {
        "colab": {
          "base_uri": "https://localhost:8080/"
        },
        "id": "TNhpEh8TuY5o",
        "outputId": "4ab982ce-23e5-4c67-e3ff-581bcf2c61c5"
      },
      "execution_count": null,
      "outputs": [
        {
          "output_type": "stream",
          "name": "stdout",
          "text": [
            "Ingrese el numero: 1\n",
            "El numero NO es multiplo de 3\n"
          ]
        }
      ]
    },
    {
      "cell_type": "markdown",
      "source": [
        "**3 - Escriba un programa que pida al usuario 2 palabras y verifique cual de las es mas larga o si tienen el mismo largo.**"
      ],
      "metadata": {
        "id": "mu41FuBiuvJb"
      }
    },
    {
      "cell_type": "code",
      "source": [
        "palabra1 = input(\"Ingrese la primera palabra: \")\n",
        "palabra2 = input(\"Ingrese la segunda palabra: \")\n",
        "\n",
        "lenPalabra1 = len(palabra1)\n",
        "lenPalabra2 = len(palabra2)\n",
        "\n",
        "if lenPalabra1 > lenPalabra2:\n",
        "    print(\"La palabra {} es mas larga que {}\".format(palabra1,palabra2))\n",
        "elif lenPalabra1 < lenPalabra2:\n",
        "    #print(\"La palabra \"+ palabra2 +\" es mas larga que \" + palabra1)\n",
        "    print(f\"La palabra {palabra2} es mas larga que {palabra1}\")\n",
        "else:\n",
        "    print(\"Ambas tienen el mismo largo\")\n"
      ],
      "metadata": {
        "colab": {
          "base_uri": "https://localhost:8080/"
        },
        "id": "lNcVw6Heu4Ya",
        "outputId": "44a32e1f-a297-40a5-aafa-fdf9d6562486"
      },
      "execution_count": null,
      "outputs": [
        {
          "output_type": "stream",
          "name": "stdout",
          "text": [
            "Ingrese la primera palabra: largo\n",
            "Ingrese la segunda palabra: cortoo\n",
            "La palabra cortoo es mas larga que largo\n"
          ]
        }
      ]
    },
    {
      "cell_type": "markdown",
      "source": [
        "**4 - Escriba un programa que determine el tipo de triangulo que se esta escribiendo segun la medida de sus lados**"
      ],
      "metadata": {
        "id": "7VseiB-BwMhv"
      }
    },
    {
      "cell_type": "code",
      "source": [
        "lado1 = int(input(\"Ingrese el primer lado: \"))\n",
        "lado2 = int(input(\"Ingrese el segundo lado: \"))\n",
        "lado3 = int(input(\"Ingrese el tercer lado: \"))\n",
        "\n",
        "if (lado1 == lado2 and lado2 == lado3 and lado3 == lado1):\n",
        "    print(\"Es un triagulo equilátero\")\n",
        "elif (lado1 != lado2 and lado2 != lado3 and lado3 != lado1):\n",
        "    print(\"Es un triangulo escaleno\")\n",
        "else:\n",
        "    print(\"Es un triangulo isósceles\")"
      ],
      "metadata": {
        "colab": {
          "base_uri": "https://localhost:8080/"
        },
        "id": "5ug6ck5WwSOS",
        "outputId": "8645c93e-5cd3-407d-e903-7384bcb58e54"
      },
      "execution_count": null,
      "outputs": [
        {
          "output_type": "stream",
          "name": "stdout",
          "text": [
            "Ingrese el primer lado: 4\n",
            "Ingrese el segundo lado: 2\n",
            "Ingrese el tercer lado: 4\n",
            "Es un triangulo isósceles\n"
          ]
        }
      ]
    },
    {
      "cell_type": "markdown",
      "source": [
        "**5 - Escriba un programa que le pida al usuario 3 notas, luego que calcule el promedio y verifique si el usuario aprobo, reprobo o si se eximio. Para aprobar se necesita de un 4 en adelante y para eximirse se necesita promedio 5 en adelante, si el usuario tuvo algun rojo en sus notas, necesitara de 5.5 en adelante para eximirse, si el usuario no se eximio, calcule la nota que necesita en el examen para aprobar.\n",
        "Considere que la nota del examen vale un 0.3 de la nota final y el promedio un 0.7**"
      ],
      "metadata": {
        "id": "8tUDkOmCx4JA"
      }
    },
    {
      "cell_type": "code",
      "source": [
        "nota1 = float(input(\"Ingrese la primer nota: \"))\n",
        "nota2 = float(input(\"Ingrese la segunda nota: \"))\n",
        "nota3 = float(input(\"Ingrese la tercer nota: \"))\n",
        "\n",
        "prom = (nota1 + nota2 + nota3) / 3\n",
        "print(\"Promedio: \", prom)\n",
        "\n",
        "if nota1 > 4 and nota2 > 4 and nota3 > 4:\n",
        "    eximicion = 5.0\n",
        "else:\n",
        "    eximicion = 5.5\n",
        "\n",
        "if prom >= eximicion:\n",
        "    print(\"El usuario se eximio y aprobó\")\n",
        "else:\n",
        "    notaAprobacion = (4 - (prom*0.7)) / 0.3\n",
        "    # prom*0.7 + exam*0.3 = 4\n",
        "    # prom*0.7 - 4 = - exam*0.3\n",
        "    # 4 - prom*0.7 = exam*0.3\n",
        "    # (4 - prom*0.7) / 0.3 = exam\n",
        "    print(\"El usuario no se eximio y necesita un \", notaAprobacion, \" para aprobar\")"
      ],
      "metadata": {
        "colab": {
          "base_uri": "https://localhost:8080/"
        },
        "id": "D9cUUdqax6cO",
        "outputId": "820b2e23-5cb8-448e-ddce-29f9f7ca302b"
      },
      "execution_count": null,
      "outputs": [
        {
          "output_type": "stream",
          "name": "stdout",
          "text": [
            "Ingrese la primer nota: 7\n",
            "Ingrese la segunda nota: 7\n",
            "Ingrese la tercer nota: 2\n",
            "Promedio:  5.333333333333333\n",
            "El usuario no se eximio y necesita un  0.8888888888888902  para aprobar\n"
          ]
        }
      ]
    },
    {
      "cell_type": "markdown",
      "source": [
        "**6 - El riesgo de que una persona sufra enfermedades coronarias depende de su edad y su indice de masa corporal:**\n",
        "\n",
        "\\begin{array}{l|l|l|}\n",
        "                                & edad < 45 & edad >= 45 \\\\ \\hline\n",
        "{IMC < 22}  & bajo      & medio      \\\\ \\hline\n",
        "{IMC >= 22} & medio     & alto       \\\\ \\hline\n",
        "\\end{array}\n",
        "\n",
        "**El indice de masa corporal es el cuociente entre el peso del individuo en kilos y el cuadrado de su estatura en metros. Por ejemplo, si una persona pesa 85 kg y mide 1.8 m, su IMC es:**\n",
        "\\begin{align}\n",
        "IMC = \\frac{85}{(1.8^2)} = \\frac{85}{3.24} = 26.23\n",
        "\\end{align}\n",
        "\n",
        "**Escriba un programa que reciba la estatura, el peso y la edad de una persona, y muestre por pantalla su condicion de riesgo, junto con su indice de masa corporal.**"
      ],
      "metadata": {
        "id": "drgz7PS8lg8R"
      }
    },
    {
      "cell_type": "code",
      "source": [
        "edad = int(input(\"edad: \"))\n",
        "peso = float(input(\"peso: \"))\n",
        "altura = float(input(\"altura: \"))\n",
        "\n",
        "imc = peso / (altura**2)\n",
        "\n",
        "#2print(f\"\\nSu IMC es de : {imc:.2f}\")\n",
        "print(f\"\\nSu IMC es de : \", imc)\n",
        "\n",
        "if imc < 22 and edad < 45:\n",
        "    print(\"Su riesgo es Bajo\")\n",
        "elif imc < 22 and edad >= 45:\n",
        "    print(\"Su riesgo es medio\")\n",
        "elif imc >= 22 and edad < 45:\n",
        "    print(\"Su riesgo es medio\")\n",
        "else:\n",
        "    print(\"Su riesgo es alto\")"
      ],
      "metadata": {
        "id": "mUsJ6yc1nmD_"
      },
      "execution_count": null,
      "outputs": []
    },
    {
      "cell_type": "markdown",
      "source": [
        "7.**Un edificio tiene 20 pisos de 8 departamentos cada uno. La dueña del edificio ha definido una estrategia para ponerle precio a cada departamento.**\n",
        "\n",
        "**El número que identifica cada departamento se divide en dos partes: los dos últimos diggitos indican en qué posición está (de acuerdo al diagrama), y los restantes indican el piso. Por ejemplo, el departamento 1105 está en el undécimo piso, en la posición 5.**\n",
        "\n",
        "**Los dos departamentos al extremo derecho tienen vista al mar, y los dos al extremo izquierdo tienen vista al cerro. Todos los departamentos del primer piso cuestan 100, y todos los departamentos del último piso cuestan 400. Para los pisos intermedios, se ha dejado un precio base de 250; el precio de los departamentos con vista al mar se aumentará en un 15%, y los con vista al cerro se rebajará en un 20%.**\n",
        "\n",
        "\n",
        "nota del profesor = no pude poner el texto en vertical con el latex de colab F\n",
        "\n",
        "\\begin{array}{|c|c|c|c|}\n",
        "\\hline 4 & 5 & 6 & 7 \\\\\n",
        "\\hline 0 & 1 & 2 & 3 \\\\\n",
        "\\hline\n",
        "\\end{array}\n",
        "\n",
        "\n",
        "**Desarrolle un programa que lea el número del departamento y entregue como salida el\n",
        "precio del mismo.**"
      ],
      "metadata": {
        "id": "M5EUyOpnCvnk"
      }
    },
    {
      "cell_type": "code",
      "source": [
        "depto = int(input(\"Ingrese el numero del departamento: \"))\n",
        "\n",
        "#como aún no vemos listas vamos a hacer el ejercicio solo con matemática\n",
        "piso = depto // 100\n",
        "\n",
        "#esta fórmula calcula el numero del departamento\n",
        "numDepto = depto % 100\n",
        "\n",
        "precio = 250\n",
        "\n",
        "if(piso==1):\n",
        "  precio = 100\n",
        "elif(piso==20):\n",
        "  precio = 400\n",
        "\n",
        "if((numDepto+1)%4 == 0):\n",
        "  precio *= 1.15\n",
        "elif(numDepto == 0 or numDepto == 4):\n",
        "  precio *= 0.8\n",
        "\n",
        "print(f\"El piso es {piso} y el el número es {numDepto}\")\n",
        "print(f\"El precio es: {precio}\")"
      ],
      "metadata": {
        "id": "C9TuH0jfFXSY",
        "colab": {
          "base_uri": "https://localhost:8080/"
        },
        "outputId": "d1f30ae0-4028-4ee6-a7b6-6a41406505f0"
      },
      "execution_count": 40,
      "outputs": [
        {
          "output_type": "stream",
          "name": "stdout",
          "text": [
            "Ingrese el numero del departamento: 1103\n",
            "El piso es 11 y el el número es 3\n",
            "El precio es: 287.5\n"
          ]
        }
      ]
    },
    {
      "cell_type": "markdown",
      "source": [
        "8. **Una cadena de restaurante se encuentra abierta de 11:00 hasta las 23:00 horas, ofreciendo\n",
        "brunch, almuerzo y cena a sus clientes. Diariamente cada garzón puede trabajar\n",
        "en uno de los 2 turnos posibles: mediodía (de 11:00 hasta las 17:00 horas) y noche (de\n",
        "17:00 hasta las 23:00 horas). Su sueldo mensual es variable y se determina en base a la\n",
        "cantidad de turnos realizados, un adicional por propina, un bono de locomoción y un\n",
        "sueldo base de $200.000 con el siguiente detalle:**\n",
        "\n",
        "- turnos: cada garzón puede realizar una cantidad variable de turnos mediodía y noche cada mes. Por cada turno mediodía se paga \\$12.000 y por cada turno noche \\$15.000.\n",
        "- propina: corresponde a un 10% del monto total consumido mensual por los clientes que atendió.\n",
        "- bono de locomoción: por cada turno noche que trabaja, recibe un bono de locomoción equivalente a $3.000, para que así pueda retornar de forma segura a su casa.\n",
        "\n",
        "**La cadena de restaurante cuenta con un sistema de beneficios médicos y dentales, el cual se financia aplicando un descuento de $10.000 al sueldo. Se pide hacer un programa que solicite el nombre del garzón, días trabajados, turnos y el monto consumido por clientes que atendió.**"
      ],
      "metadata": {
        "id": "a9obO3EP4dwm"
      }
    },
    {
      "cell_type": "code",
      "source": [
        "nombre = input(\"Ingrese el nombre del garzón: \")\n",
        "turnNoct = int(input(\"Ingrese los turnos nocturnos trabajados: \"))\n",
        "turnDia = int(input(\"Ingrese los turnos de mediodía trabajados: \"))\n",
        "consumo = int(input(\"Ingrese monto consumido por clientes: \"))\n",
        "\n",
        "print(\"*****************\")\n",
        "\n",
        "totalTurn = turnNoct * 18000 + turnDia * 12000\n",
        "totalConsumo = consumo * 0.1\n",
        "total = totalTurn + totalConsumo + 200000\n",
        "\n",
        "print(\"Nombre garzón:\",nombre)\n",
        "print(f\"Sueldo mensual: ${total}\")\n",
        "print(f\"Descuento médico: ${10000}\")\n",
        "print(f\"Sueldo total: ${total-10000}\")\n"
      ],
      "metadata": {
        "colab": {
          "base_uri": "https://localhost:8080/"
        },
        "id": "c-BnjDjk4-9-",
        "outputId": "b064d17f-11e4-464e-e64f-abc23672f644"
      },
      "execution_count": 43,
      "outputs": [
        {
          "output_type": "stream",
          "name": "stdout",
          "text": [
            "Ingrese el nombre del garzón: Juanin Juan Harry\n",
            "Ingrese los turnos nocturnos trabajados: 5\n",
            "Ingrese los turnos de mediodía trabajados: 15\n",
            "Ingrese monto consumido por clientes: 100000\n",
            "*****************\n",
            "Nombre garzón: Juanin Juan Harry\n",
            "Sueldo mensual: $480000.0\n",
            "Descuento médico: $10000\n",
            "Sueldo total: $470000.0\n"
          ]
        }
      ]
    },
    {
      "cell_type": "markdown",
      "source": [
        "9. **Un número N con 4 dígitos es un número doble-cuadrado cuando este iguala la suma de dos números al cuadrado: uno formado por los dos primeros dígitos de N y el otro formado por los dos últimos dígitos de N. Por ejemplo, 1233 es un número doble-cuadrado ya que 1233 = $12^{2}$ + $33^{2}$.\n",
        "Desarrolle un programa que calcule y escriba todos los números doble-cuadrado.**"
      ],
      "metadata": {
        "id": "Sd5sTkJVARrv"
      }
    },
    {
      "cell_type": "code",
      "source": [
        "#Este problema es con ciclos, así que en este punto si no entiende no hay problema\n",
        "\n",
        "a = 1000\n",
        "\n",
        "while a<10000:\n",
        "  NPrimero = a // 100\n",
        "  NSegundo = a % 100\n",
        "  if(NPrimero ** 2) + (NSegundo ** 2) == a:\n",
        "    print(f\"{NPrimero}^2 + {NSegundo}^2 = {a}\")\n",
        "  a += 1"
      ],
      "metadata": {
        "colab": {
          "base_uri": "https://localhost:8080/"
        },
        "id": "DmOwxqm4A1U1",
        "outputId": "38aa9ad7-bf1d-404a-de1d-e066b024be4e"
      },
      "execution_count": 45,
      "outputs": [
        {
          "output_type": "stream",
          "name": "stdout",
          "text": [
            "12^2 + 33^2 = 1233\n",
            "88^2 + 33^2 = 8833\n"
          ]
        }
      ]
    }
  ]
}