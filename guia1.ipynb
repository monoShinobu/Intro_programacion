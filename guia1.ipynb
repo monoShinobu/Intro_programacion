{
  "nbformat": 4,
  "nbformat_minor": 0,
  "metadata": {
    "colab": {
      "provenance": []
    },
    "kernelspec": {
      "name": "python3",
      "display_name": "Python 3"
    },
    "language_info": {
      "name": "python"
    }
  },
  "cells": [
    {
      "cell_type": "markdown",
      "source": [
        "*1 - Escriba un programa que pida el nombre al usuario y luego lo salude*"
      ],
      "metadata": {
        "id": "3VH8G6x9nbgP"
      }
    },
    {
      "cell_type": "code",
      "source": [
        "#ingresar el saludo\n",
        "saludos = input(\"Ingrese su nombre: \")\n",
        "\n",
        "print(\"Hola\", saludos)"
      ],
      "metadata": {
        "colab": {
          "base_uri": "https://localhost:8080/"
        },
        "id": "Xeb703LunfxX",
        "outputId": "a4445c02-20a7-4a93-d31a-f73b6f8b07d5"
      },
      "execution_count": null,
      "outputs": [
        {
          "output_type": "stream",
          "name": "stdout",
          "text": [
            "Ingrese su nombre: Jaime\n",
            "Hola Jaime\n"
          ]
        }
      ]
    },
    {
      "cell_type": "markdown",
      "source": [
        "**3. Escriba un programa que pida al usuario 3 numeros, saque la suma y promedio entre\n",
        "ellos.**"
      ],
      "metadata": {
        "id": "_S3YRxYOpquK"
      }
    },
    {
      "cell_type": "code",
      "source": [
        "numero1 = int(input(\"Ingrese el primer numero: \"))\n",
        "numero2 = int(input(\"Ingrese el segundo numero: \"))\n",
        "numero3 = int(input(\"Ingrese el tercer numero: \"))\n",
        "\n",
        "prom = (numero1 + numero2 + numero3) / 3\n",
        "\n",
        "print(\"El promedio es de: \",prom)\n"
      ],
      "metadata": {
        "colab": {
          "base_uri": "https://localhost:8080/"
        },
        "id": "i-fA-sxTpsgs",
        "outputId": "d15e6812-f180-4016-edec-24dcdd5da42e"
      },
      "execution_count": null,
      "outputs": [
        {
          "output_type": "stream",
          "name": "stdout",
          "text": [
            "Ingrese el primer numero: 7\n",
            "Ingrese el segundo numero: 7\n",
            "Ingrese el tercer numero: 1\n",
            "El promedio es de:  5.0\n"
          ]
        }
      ]
    },
    {
      "cell_type": "markdown",
      "source": [
        "**4. Escriba un programa que pida al usuario un numero decimal y retorne su parte entera\n",
        "y decimal por separado**"
      ],
      "metadata": {
        "id": "I6Zf-9bWr3W0"
      }
    },
    {
      "cell_type": "code",
      "source": [
        "from decimal import Decimal\n",
        "\n",
        "numero = Decimal(input(\"Ingrese el numero: \"))\n",
        "\n",
        "entero = int(numero)\n",
        "\n",
        "print(\"La parte entera es \", entero)\n",
        "print(\"La parte decimal es \", numero - entero)\n"
      ],
      "metadata": {
        "colab": {
          "base_uri": "https://localhost:8080/"
        },
        "id": "VsaMuaG4sO2Z",
        "outputId": "21130598-e89d-4886-e247-c6b00ff368c5"
      },
      "execution_count": null,
      "outputs": [
        {
          "output_type": "stream",
          "name": "stdout",
          "text": [
            "Ingrese el numero: 5893.2456\n",
            "La parte entera es  5893\n",
            "La parte decimal es  0.2456\n"
          ]
        }
      ]
    },
    {
      "cell_type": "markdown",
      "source": [
        "**5. Escriba un programa que pida al usuario una oracion e imprima esta toda en mayuscula\n",
        "y toda en minuscula.**"
      ],
      "metadata": {
        "id": "GI2Dv5QTtijo"
      }
    },
    {
      "cell_type": "code",
      "source": [
        "# Pedir al usuario una oración\n",
        "oracion = input(\"Escribe una oración: \")\n",
        "\n",
        "# Imprimir la oración en mayúscula\n",
        "print(\"Oración en mayúscula:\", oracion.upper())\n",
        "\n",
        "# Imprimir la oración en minúscula\n",
        "print(\"Oración en minúscula:\", oracion.lower())"
      ],
      "metadata": {
        "colab": {
          "base_uri": "https://localhost:8080/"
        },
        "id": "QHFeLD0DwzLl",
        "outputId": "0da3b1d8-9dfa-4d9c-8423-ebb36b881ae4"
      },
      "execution_count": null,
      "outputs": [
        {
          "output_type": "stream",
          "name": "stdout",
          "text": [
            "Escribe una oración: aksdokasosdkoasdaAAAAAAAAAAAA\n",
            "Oración en mayúscula: AKSDOKASOSDKOASDAAAAAAAAAAAAA\n",
            "Oración en minúscula: aksdokasosdkoasdaaaaaaaaaaaaa\n"
          ]
        }
      ]
    },
    {
      "cell_type": "markdown",
      "source": [
        "**6. Escriba un programa que pida al usuario un carácter y entregue su valor ASCII.**"
      ],
      "metadata": {
        "id": "CjTg9qYbyfw5"
      }
    },
    {
      "cell_type": "code",
      "source": [
        "valor = input(\"ingrese un valor: \")\n",
        "\n",
        "print(\"En ASCII es: \", ord(valor))"
      ],
      "metadata": {
        "id": "SEnlYtEozpK5",
        "colab": {
          "base_uri": "https://localhost:8080/"
        },
        "outputId": "51e534e8-15c6-414c-c410-9d1efc5c153f"
      },
      "execution_count": null,
      "outputs": [
        {
          "output_type": "stream",
          "name": "stdout",
          "text": [
            "ingrese un valor: l\n",
            "En ASCII es:  108\n"
          ]
        }
      ]
    },
    {
      "cell_type": "markdown",
      "source": [
        "**7. Realice un programa que calcule el cuadrado de cualquier numero.**"
      ],
      "metadata": {
        "id": "87tvCteM1qYz"
      }
    },
    {
      "cell_type": "code",
      "source": [
        "valor = float(input(\"ingrese un numero: \"))\n",
        "\n",
        "#tambien puede ser valor**2\n",
        "cuadr = valor*valor\n",
        "\n",
        "print(\"El cuadrado es: \", cuadr)"
      ],
      "metadata": {
        "colab": {
          "base_uri": "https://localhost:8080/"
        },
        "id": "QsjMTDbF1reg",
        "outputId": "c2d599e5-44e6-4fb1-f811-f55c3480e7d5"
      },
      "execution_count": null,
      "outputs": [
        {
          "output_type": "stream",
          "name": "stdout",
          "text": [
            "ingrese un numero: 5\n",
            "El cuadrado es:  25.0\n"
          ]
        }
      ]
    },
    {
      "cell_type": "markdown",
      "source": [
        "**8. Realice un script que convierta de grado Celsius a Fahrenheit.**"
      ],
      "metadata": {
        "id": "OR62MGM82BP1"
      }
    },
    {
      "cell_type": "code",
      "source": [
        "grado = float(input(\"ingrese la temperatura en Celcius: \"))\n",
        "\n",
        "gradoFahren = (grado * (9/5)) + 32\n",
        "\n",
        "print(\"Los grados en Fahrenheit son: \", gradoFahren)"
      ],
      "metadata": {
        "colab": {
          "base_uri": "https://localhost:8080/"
        },
        "id": "f50RThWq2CHo",
        "outputId": "2c4ca4bd-739b-433f-864d-a1eee9b76d99"
      },
      "execution_count": null,
      "outputs": [
        {
          "output_type": "stream",
          "name": "stdout",
          "text": [
            "ingrese la temperatura en Celcius: 52\n",
            "Los grados en Fahrenheit son:  125.60000000000001\n"
          ]
        }
      ]
    },
    {
      "cell_type": "markdown",
      "source": [
        "**9. Realice un script que calcule el volumen de una esfera**"
      ],
      "metadata": {
        "id": "S3MojC_DLt9W"
      }
    },
    {
      "cell_type": "code",
      "source": [
        "r = float(input(\"Ingrese el radio: \"))\n",
        "\n",
        "pi = 3.1416\n",
        "rCubo = r**3\n",
        "\n",
        "volumen = (4/3) * pi * rCubo\n",
        "\n",
        "print(\"El volumen es: \", volumen)\n"
      ],
      "metadata": {
        "colab": {
          "base_uri": "https://localhost:8080/"
        },
        "id": "NHiOt7iELtkj",
        "outputId": "5ccfbd8e-7e91-45b6-86ae-405f65aabfcd"
      },
      "execution_count": null,
      "outputs": [
        {
          "output_type": "stream",
          "name": "stdout",
          "text": [
            "Ingrese el radio: 2.56\n",
            "El volumen es:  70.27640238080001\n"
          ]
        }
      ]
    },
    {
      "cell_type": "markdown",
      "source": [
        "**10. Escriba un programa que reciba el radio de una circunferencia y entregue como resultado el área y el perímetro**"
      ],
      "metadata": {
        "id": "tv7yxLJPOKbK"
      }
    },
    {
      "cell_type": "code",
      "source": [
        "r = float(input(\"Ingrese el radio: \"))\n",
        "\n",
        "pi = 3.1416\n",
        "area = pi * r**2\n",
        "perimetro = 2 * pi * r\n",
        "\n",
        "print(\"Area: \", area)\n",
        "print(\"Perímetro: \", perimetro)"
      ],
      "metadata": {
        "colab": {
          "base_uri": "https://localhost:8080/"
        },
        "id": "l2DOo323OsKK",
        "outputId": "0deeb7ba-e029-4c0e-9bf1-271613dbefcc"
      },
      "execution_count": null,
      "outputs": [
        {
          "output_type": "stream",
          "name": "stdout",
          "text": [
            "Ingrese el radio: 3\n",
            "Area:  28.2744\n",
            "Perímetro:  18.8496\n"
          ]
        }
      ]
    },
    {
      "cell_type": "markdown",
      "source": [
        "**11. Realice un script que pida por pantalla minutos y entregue su valor en hora y minutos**"
      ],
      "metadata": {
        "id": "RjjLjzH_PFC9"
      }
    },
    {
      "cell_type": "code",
      "source": [
        "minTotales = int(input(\"Ingrese los minutos: \"))\n",
        "\n",
        "#Hay 2 formas de realizar este ejercicio, ambas tiene en comun el calculo de las horas y difieren en el calculo de los minutos\n",
        "\n",
        "#divimos en 60 con la division entera para obtener la cantidad de minutos\n",
        "horas = minTotales // 60\n",
        "\n",
        "#Forma 1 para calcular los minutos\n",
        "#usamos el modulo para calcular el exedente de minutos\n",
        "minForma1 = minTotales % 60\n",
        "\n",
        "#Forma 2 para calcular minutos\n",
        "#tomamos la cantidad de horas, la transformamos a minutos y luego la restamos a los minutos totales\n",
        "minForma2 = minTotales - (horas*60)\n",
        "\n",
        "print(\"La cantidad de horas es:\", horas)\n",
        "print(\"La cantidad de minutos (Forma 1) es:\", minForma1)\n",
        "print(\"La cantidad de minutos (Forma 2) es:\", minForma2)"
      ],
      "metadata": {
        "colab": {
          "base_uri": "https://localhost:8080/"
        },
        "id": "Lsbo3xVKPMIm",
        "outputId": "264bde5e-91df-4034-8eb5-2b7c0f1644eb"
      },
      "execution_count": null,
      "outputs": [
        {
          "output_type": "stream",
          "name": "stdout",
          "text": [
            "Ingrese los minutos: 546\n",
            "La cantidad de horas es: 9\n",
            "La cantidad de minutos (Forma 1) es: 6\n",
            "La cantidad de minutos (Forma 2) es: 6\n"
          ]
        }
      ]
    },
    {
      "cell_type": "markdown",
      "source": [
        "**12. Escriba un programa que pida al usuario un entero de tres dígitos y entregue el número con los dígitos en orden inverso**"
      ],
      "metadata": {
        "id": "oYoZUphQQZb6"
      }
    },
    {
      "cell_type": "code",
      "source": [
        "#para este ejercicio se usan listas, por lo tanto no se asuste si no entiende\n",
        "\n",
        "num = input(\"Ingrese el numero: \")\n",
        "\n",
        "#Trabajamos num como lista y no como número\n",
        "#para poder recorrer esta lista de manera inversa vamos a usar slicing\n",
        "#el primer ':' indica que vamos a recorrer la lista desde el pincipio al final\n",
        "#el segundo ':' indica la cantidad de pasos que vamos a adelantar\n",
        "#el '-1' nos indica que los pasos van a ser de atras hacia adelante, por lo tanto en esta parte indicamos que el recorrido es del final al principio\n",
        "numInverso = num[::-1]\n",
        "\n",
        "print(\"El inverso es:\", numInverso)\n"
      ],
      "metadata": {
        "colab": {
          "base_uri": "https://localhost:8080/"
        },
        "id": "b-602GyeQog5",
        "outputId": "1675736f-4724-4e47-a440-3ae8061aea2d"
      },
      "execution_count": null,
      "outputs": [
        {
          "output_type": "stream",
          "name": "stdout",
          "text": [
            "Ingrese el numero: 123\n",
            "El inverso es: 321\n"
          ]
        }
      ]
    },
    {
      "cell_type": "markdown",
      "source": [
        "**13. Escriba un programa que reciba como entrada las longitudes de los dos catetos a y b de un triángulo rectángulo, y que entregue como salida el largo de la hipotenusa c del triangulo, dado por el teorema de Pitágoras:**\n",
        "\\begin{align}\n",
        "c^{2} = a^{2} + b^{2}\n",
        "\\end{align}\n"
      ],
      "metadata": {
        "id": "mjzkltbPVkUi"
      }
    },
    {
      "cell_type": "code",
      "source": [
        "cata = float(input(\"Ingrese el cateto a: \"))\n",
        "catb = float(input(\"Ingrese el cateto b: \"))\n",
        "\n",
        "#para calcular la raiz cuadrado elevamos a un medio\n",
        "catc = ((cata**2) + (catb**2))**(1/2)\n",
        "\n",
        "print(\"La hipotenusa es:\", catc)"
      ],
      "metadata": {
        "colab": {
          "base_uri": "https://localhost:8080/"
        },
        "id": "SxM3xLZOSdrs",
        "outputId": "2a09618f-6c36-4136-d130-96cf9972670f"
      },
      "execution_count": null,
      "outputs": [
        {
          "output_type": "stream",
          "name": "stdout",
          "text": [
            "Ingrese el cateto a: 7\n",
            "Ingrese el cateto b: 5\n",
            "La hipotenusa es: 8.602325267042627\n"
          ]
        }
      ]
    },
    {
      "cell_type": "markdown",
      "source": [
        "**14. Charlie visita la fábrica de chocolates para comprar, obviamente, chocolates. Cada chocolate cuesta $100, eso sí hay una promoción de reciclaje, que consiste en lo siguiente:**\n",
        "\n",
        "**Si se retornan 3 envoltorios de chocolate obtienes un chocolate gratis. Desarrolle un programa que lea cuánto dinero tiene Charlie inicialmente y calcule (y escriba) cuántos chocolates puede comer y cuántos envoltorios le sobran.**"
      ],
      "metadata": {
        "id": "ZfiO4fz5XjUZ"
      }
    },
    {
      "cell_type": "code",
      "source": [
        "dinero = int(input(\"Ingrese el dinero: \"))\n",
        "\n",
        "chocIniciales = dinero//100\n",
        "chocEnvoltorios = chocIniciales // 3\n",
        "envoltoriosRestantes = chocIniciales % 3\n",
        "\n",
        "print(\"Chalie con\",dinero,\"se come\",chocIniciales,\"chocolates.\")\n",
        "print(\"Con los envoltorios se come\",chocEnvoltorios,\"chocolates extra\")\n",
        "print(\"Finalmente le sobran\",envoltoriosRestantes,\"envoltorios\")\n"
      ],
      "metadata": {
        "colab": {
          "base_uri": "https://localhost:8080/"
        },
        "id": "MfwWJel5XzLA",
        "outputId": "bc68f0aa-7b6e-4907-c54d-05401048ba25"
      },
      "execution_count": null,
      "outputs": [
        {
          "output_type": "stream",
          "name": "stdout",
          "text": [
            "Ingrese el dinero: 1950\n",
            "Chalie con 1950 se come 19 chocolates.\n",
            "Con los envoltorios se come 6 chocolates extra\n",
            "Finalmente le sobran 1 envoltorios\n"
          ]
        }
      ]
    },
    {
      "cell_type": "markdown",
      "source": [
        "**15. La ley de la gravitación universal postula que la fuerza ejercida entre dos cuerpos de masas m1 y m2 separados una distancia r es proporcional al producto de sus masas e inversamente proporcional al cuadrado de la distancia, es decir:**\n",
        "\\begin{align}\n",
        "F=G \\frac{m_1 m_2}{r^2} \\quad donde \\, G=6.6738 \\times 10^{-11}\\left[\\mathrm{~N} \\mathrm{~m}^2 \\mathrm{~kg}^{-2}\\right]$\n",
        "\\end{align}\n",
        "**Escriba un programa que reciba como entrada las masas de dos cuerpos (en Kg.) y la distancia entre ellos (en metros) y entregue como salida la fuerza ejercida entre ambos cuerpos.**"
      ],
      "metadata": {
        "id": "s_d2SMoB3_Ed"
      }
    },
    {
      "cell_type": "code",
      "source": [
        "#por lo pronto no nos vamos a calentar la cabeza con el 'e', asi que tomen los valores que se ingresan como numeros flotantes solamente\n",
        "masa1 = float(input(\"Ingrese la masa 1: \"))\n",
        "masa2 = float(input(\"Ingrese la masa 2: \"))\n",
        "distancia = float(input(\"Ingrese la distancia: \"))\n",
        "\n",
        "G = 6.6738 * (10**-11)\n",
        "F = G * ( (masa1 * masa2) / (distancia ** 2) )\n",
        "\n",
        "print(\"Fuerza ejercida: \", F)\n"
      ],
      "metadata": {
        "colab": {
          "base_uri": "https://localhost:8080/"
        },
        "id": "7F4HDwBo6PR4",
        "outputId": "055c4045-9796-4d01-ac29-1c04fb21f6b7"
      },
      "execution_count": 4,
      "outputs": [
        {
          "output_type": "stream",
          "name": "stdout",
          "text": [
            "Ingrese la masa 1: 2.5\n",
            "Ingrese la masa 2: 1.4\n",
            "Ingrese la distancia: 4.8\n",
            "Fuerza ejercida:  101381510416.66663\n"
          ]
        }
      ]
    },
    {
      "cell_type": "code",
      "source": [
        "#Esto es mas avanzado de lo que hemos visto hasta el momento, no es necesario que lo hagan de esta forma\n",
        "#Si quieren que el programa indentifique los 'e'como exponente\n",
        "\n",
        "#Definimos una funcion que reciba el string con el 'e' y realice el calculo\n",
        "def expToNum(valor):\n",
        "  #dividimos el string en el 'e'\n",
        "  partes = valor.split('e')\n",
        "  #retornamos la primera parte del numero multiplicada por 10 elevado a la segunda parte\n",
        "  return float(partes[0]) * (10**float(partes[1]))\n",
        "\n",
        "\n",
        "masa1 = expToNum(input(\"Ingrese la masa 1: \"))\n",
        "masa2 = expToNum(input(\"Ingrese la masa 2: \"))\n",
        "distancia = expToNum(input(\"Ingrese la distancia: \"))\n",
        "\n",
        "G = 6.6738 * (10**-11)\n",
        "F = G * ( (masa1 * masa2) / (distancia ** 2) )\n",
        "\n",
        "print(\"Fuerza ejercida: \", F)\n"
      ],
      "metadata": {
        "colab": {
          "base_uri": "https://localhost:8080/"
        },
        "id": "uSmIPpiv_hqJ",
        "outputId": "cc05996f-1b81-4beb-a9fd-abf42e53231a"
      },
      "execution_count": 8,
      "outputs": [
        {
          "output_type": "stream",
          "name": "stdout",
          "text": [
            "Ingrese la masa 1: 2.5e10\n",
            "Ingrese la masa 2: 1.4e8\n",
            "Ingrese la distancia: 4.8e5\n",
            "Fuerza ejercida:  0.0010138151041666666\n"
          ]
        }
      ]
    },
    {
      "cell_type": "markdown",
      "source": [
        "**16. Escriba un programa que convierta de centímetros a pulgadas. Una pulgada es igual a 2.54 centímetros.**"
      ],
      "metadata": {
        "id": "7g3JbDmnBtuR"
      }
    },
    {
      "cell_type": "code",
      "source": [
        "cm = float(input(\"Ingrese longitud: \"))\n",
        "\n",
        "pul = cm/2.54\n",
        "\n",
        "print(cm,\"cm =\",round(pul,2),\"pulgadas\")\n"
      ],
      "metadata": {
        "colab": {
          "base_uri": "https://localhost:8080/"
        },
        "id": "PrOR9wNoB1NC",
        "outputId": "be78b080-1fb5-471b-c01a-726c9b8e9b8d"
      },
      "execution_count": 10,
      "outputs": [
        {
          "output_type": "stream",
          "name": "stdout",
          "text": [
            "Ingrese longitud: 45\n",
            "45.0 cm = 17.72 pulgadas\n"
          ]
        }
      ]
    },
    {
      "cell_type": "markdown",
      "source": [
        "**17. Escriba un programa que resuelva una ecuación de primer grado ax+b = 0. El programa debe solicitar los valores de los parámetros a y b y mostrar el resultado de x redondeado a 2 decimales.**"
      ],
      "metadata": {
        "id": "tfP9gb_kCW-u"
      }
    },
    {
      "cell_type": "code",
      "source": [
        "a = float(input(\"Ingrese a: \"))\n",
        "b = float(input(\"Ingrese b: \"))\n",
        "\n",
        "x = ((-1)*b) / a\n",
        "\n",
        "print(\"x =\",round(x,2))"
      ],
      "metadata": {
        "colab": {
          "base_uri": "https://localhost:8080/"
        },
        "id": "b1RrL29jCdGl",
        "outputId": "0fb275e1-c272-4074-9bde-6724d8158766"
      },
      "execution_count": 12,
      "outputs": [
        {
          "output_type": "stream",
          "name": "stdout",
          "text": [
            "Ingrese a: 2.4\n",
            "Ingrese b: 5.6\n",
            "x = -2.33\n"
          ]
        }
      ]
    },
    {
      "cell_type": "markdown",
      "source": [
        "**18. Escriba un programa que solicite los valores de la base y la altura de un triángulo y muestre por pantalla el valor del aea redondeado a un decimal.**"
      ],
      "metadata": {
        "id": "eavmq8vHC799"
      }
    },
    {
      "cell_type": "code",
      "source": [
        "base = float(input(\"Ingrese la base: \"))\n",
        "altura = float(input(\"Ingrese la altura: \"))\n",
        "\n",
        "area = (base * altura) / 2\n",
        "\n",
        "print(\"Area: \",round(area,1))"
      ],
      "metadata": {
        "colab": {
          "base_uri": "https://localhost:8080/"
        },
        "id": "27jQZPIbDBBZ",
        "outputId": "397ddd28-229b-4af7-cdb3-7d6486583507"
      },
      "execution_count": 13,
      "outputs": [
        {
          "output_type": "stream",
          "name": "stdout",
          "text": [
            "Ingrese la base: 4.5\n",
            "Ingrese la altura: 1.5\n",
            "Area:  3.4\n"
          ]
        }
      ]
    },
    {
      "cell_type": "markdown",
      "source": [
        "**19. Escriba un programa que solicite los valores de cada base de un trapecio y su altura y muestre por pantalla el valor del área redondeado a un decimal.**"
      ],
      "metadata": {
        "id": "CjHyfM4BDfNT"
      }
    },
    {
      "cell_type": "code",
      "source": [
        "baseInf = float(input(\"Ingrese la base inferior: \"))\n",
        "baseSup = float(input(\"Ingrese la base superior: \"))\n",
        "altura = float(input(\"Ingrese la altura: \"))\n",
        "\n",
        "area = ((baseInf + baseSup) / 2) * altura\n",
        "\n",
        "print(\"Area: \",round(area,1))\n"
      ],
      "metadata": {
        "colab": {
          "base_uri": "https://localhost:8080/"
        },
        "id": "VvzFd1DADjXg",
        "outputId": "1f276ced-f697-4047-be33-0e3a2b5fe69c"
      },
      "execution_count": 14,
      "outputs": [
        {
          "output_type": "stream",
          "name": "stdout",
          "text": [
            "Ingrese la base inferior: 2.5\n",
            "Ingrese la base superior: 3.4\n",
            "Ingrese la altura: 9.2\n",
            "Area:  27.1\n"
          ]
        }
      ]
    },
    {
      "cell_type": "markdown",
      "source": [
        "**20. Escriba un programa que calcule a qué distancia caerá un proyectil lanzado desde un cañon. El programa recibe desde teclado el ángulo inicial de salida del proyectil α (en grados) y su velocidad inicial v0 (en [m\n",
        "s ]). Tenga en cuenta las siguientes ecuaciones que definen el comportamiento del sistema descrito:**\n",
        "\\begin{aligned}\n",
        "v_x & =v_0 \\cos (\\alpha) \\\\\n",
        "v_y & =v_0 \\sin (\\alpha) \\\\\n",
        "t & = \\frac{2v_y}{g} \\\\\n",
        "x & =v_x t \\\\\n",
        "y & =v_y t-\\frac{1}{2} g t^2\n",
        "\\end{aligned}\n",
        "\n",
        "\\begin{aligned}\n",
        "Considere \\ g = 9.80665[\\frac{m}{s^{2}}]\n",
        "\\end{aligned}"
      ],
      "metadata": {
        "id": "kPhdqfvUD9Ny"
      }
    },
    {
      "cell_type": "code",
      "source": [
        "#para este ejecicio con el calculo de seno y coseno debemos usar la libreria math\n",
        "#notar nos falta un dato que es el tiempo, asi que tambien lo vamos a pedir por pantalla\n",
        "import math\n",
        "\n",
        "alpha = float(input(\"Angulo: \"))\n",
        "v0 = float(input(\"Velocidad: \"))\n",
        "\n",
        "g = 9.80665\n",
        "\n",
        "#no olvidar transformar los grados a radianes\n",
        "\n",
        "aphaRad = math.radians(alpha)\n",
        "\n",
        "vx = v0 * math.cos(aphaRad)\n",
        "vy = v0 * math.sin(aphaRad)\n",
        "t = (2 * vy) / g\n",
        "x = vx * t\n",
        "\n",
        "print(\"La distancia es\",x,\"metros\")\n"
      ],
      "metadata": {
        "colab": {
          "base_uri": "https://localhost:8080/"
        },
        "id": "sOrFX2ODER1L",
        "outputId": "d7baa948-497b-42ea-a008-588d89548aa7"
      },
      "execution_count": 17,
      "outputs": [
        {
          "output_type": "stream",
          "name": "stdout",
          "text": [
            "Angulo: 30\n",
            "Velocidad: 40\n",
            "La distancia es 141.29602321435982 metros\n"
          ]
        }
      ]
    },
    {
      "cell_type": "markdown",
      "source": [
        "**21.El icosaedro (del griego eikosaedron, éikosi (veinte) y edra (cara)) es un poliedro de 20 caras. Si las veinte caras son triángulos equiláteros y congruentes, iguales entre sí, el icosaedro es convexo y se denomina regular. Escriba un programa que solicite el largo de la arista (lado del triángulo equilátero) de un icosaedro regular e indique el área (redondee a dos decimales).**\n",
        "\n",
        "\\begin{aligned}\n",
        "Area = 5* \\sqrt{3} * a^2\n",
        "\\end{aligned}"
      ],
      "metadata": {
        "id": "cJKwgvUfLH6T"
      }
    },
    {
      "cell_type": "code",
      "source": [
        "a = float(input(\"a: \"))\n",
        "\n",
        "area = 5 * (3**(1/2)) * (a**2)\n",
        "\n",
        "print(\"El area es: \", area)"
      ],
      "metadata": {
        "colab": {
          "base_uri": "https://localhost:8080/"
        },
        "id": "S3sa_hJALcIS",
        "outputId": "b3081389-19f6-42df-af78-a2e6b2689fb1"
      },
      "execution_count": 18,
      "outputs": [
        {
          "output_type": "stream",
          "name": "stdout",
          "text": [
            "a: 5\n",
            "El area es:  216.50635094610965\n"
          ]
        }
      ]
    },
    {
      "cell_type": "markdown",
      "source": [
        "**22. Escriba un programa que pida al usuario el ancho y el largo de una pieza. El programa debería calcular y luego mostrar por pantalla el área de la pieza. El largo y el ancho de la pieza debe ser introducido como números decimales. La unidad de medida de ambos valores tienen que ser trabajadas cómo pies o metros.**"
      ],
      "metadata": {
        "id": "xJpcQ9FNMmwG"
      }
    },
    {
      "cell_type": "code",
      "source": [
        "largo = float(input(\"Largo: \"))\n",
        "ancho = float(input(\"Ancho: \"))\n",
        "\n",
        "area = largo*ancho\n",
        "\n",
        "print(\"El area es: \",area)"
      ],
      "metadata": {
        "colab": {
          "base_uri": "https://localhost:8080/"
        },
        "id": "KlpPeK-7Mub0",
        "outputId": "317d154b-6d92-4cf0-e790-0a4e08bec3c5"
      },
      "execution_count": 19,
      "outputs": [
        {
          "output_type": "stream",
          "name": "stdout",
          "text": [
            "Largo: 15\n",
            "Ancho: 5\n",
            "El area es:  75.0\n"
          ]
        }
      ]
    }
  ]
}