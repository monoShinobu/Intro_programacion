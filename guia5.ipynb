{
  "nbformat": 4,
  "nbformat_minor": 0,
  "metadata": {
    "colab": {
      "provenance": []
    },
    "kernelspec": {
      "name": "python3",
      "display_name": "Python 3"
    },
    "language_info": {
      "name": "python"
    }
  },
  "cells": [
    {
      "cell_type": "markdown",
      "source": [
        "**f7-2. Al analizar datos recolectados en un experimento de ciencia, puede ser deseado remover la mayor cantidad de\n",
        "valores extremos (outliers) antes de realizar ciertos cálculos. Escriba un programa que solicite una cantidad de\n",
        "números al usuario y la cantidad de valores extremos a remover (n). Para eliminar los valores extremos, se deben\n",
        "remover de la lista los n valores menores y los n valores mayores de la lista. Después de remover los valores\n",
        "extremos, se debe mostrar por pantalla los nuevos datos ordenados de menor a mayor**"
      ],
      "metadata": {
        "id": "MaNGi_ed7wFz"
      }
    },
    {
      "cell_type": "code",
      "source": [
        "def ordenarNumeros(numeros):\n",
        "  numOrdenados = []\n",
        "  while True:\n",
        "    if len(numeros) == 0:\n",
        "      break\n",
        "\n",
        "    menor = numeros[0]\n",
        "\n",
        "    for i in range(1,len(numeros)):\n",
        "      if menor > numeros[i]:\n",
        "        menor = numeros[i]\n",
        "\n",
        "    numOrdenados.append(menor)             #3 5 8 9 10 12\n",
        "    numeros.remove(menor)\n",
        "\n",
        "  return numOrdenados\n",
        "\n",
        "\n",
        "\n",
        "def quitarOutliers(datos, outliers):\n",
        "  for i in range(outliers):\n",
        "    del datos[0]\n",
        "    del datos[-1]\n",
        "  return datos\n",
        "\n",
        "\n",
        "\n",
        "cant = int(input(\"cantidad de datos experimento: \"))\n",
        "outliers = int(input(\"cantida de valores extremos (n): \"))\n",
        "\n",
        "datos = []\n",
        "\n",
        "for i in range(cant):\n",
        "  num = int(input(\"Ingrese numero: \"))\n",
        "  datos.append(num)\n",
        "\n",
        "datos = ordenarNumeros(datos)\n",
        "datos = quitarOutliers(datos, outliers)\n",
        "\n",
        "\n",
        "print(datos)"
      ],
      "metadata": {
        "colab": {
          "base_uri": "https://localhost:8080/"
        },
        "id": "6CrsjQwmw4CT",
        "outputId": "d20a77b4-7e09-4702-9022-a8dbc626f72b"
      },
      "execution_count": null,
      "outputs": [
        {
          "output_type": "stream",
          "name": "stdout",
          "text": [
            "cantidad de datos experimento: 5\n",
            "cantida de valores extremos (n): 1\n",
            "Ingrese numero: 5\n",
            "Ingrese numero: 7\n",
            "Ingrese numero: 1\n",
            "Ingrese numero: 9\n",
            "Ingrese numero: 8\n",
            "[5, 7, 8]\n"
          ]
        }
      ]
    },
    {
      "cell_type": "markdown",
      "source": [
        "**f7-4. Un entero n, dice ser perfecto cuando la suma de todos sus divisores propios son igual a n. Por ejemplo, los\n",
        "divisores propios de 28 son: [1, 2, 4, 7, 14] y la suma: 1 + 2 + 4 + 7 + 14 = 28 por lo tanto, 28 es un número\n",
        "perfecto. Escriba un programa que imprima todos los números perfectos entre el 1 y el 10000. Debe imprimir tanto el número como la lista de sus divisores propios. Cree una función que reciba como parametro el numero a calcular y muestre por pantalla sus divisores (en caso de que sea perfecto)**"
      ],
      "metadata": {
        "id": "Ekv-khpn1HS5"
      }
    },
    {
      "cell_type": "code",
      "source": [
        "def numerosPerfectos(num):    #28\n",
        "  divisores = []\n",
        "  suma = 0\n",
        "  for i in range(1, num):\n",
        "    if num % i == 0:           #28 % 4 == 0\n",
        "      divisores.append(i)\n",
        "      suma += i                #7\n",
        "\n",
        "  if suma == num:\n",
        "    print(num, divisores)\n"
      ],
      "metadata": {
        "id": "T9KMBzt81cuE"
      },
      "execution_count": null,
      "outputs": []
    },
    {
      "cell_type": "code",
      "source": [
        "for j in range(1, 10001):\n",
        "  numerosPerfectos(j)"
      ],
      "metadata": {
        "colab": {
          "base_uri": "https://localhost:8080/"
        },
        "id": "73U_4qIK2L8K",
        "outputId": "a3627809-4b43-4495-d87f-82717885c11c"
      },
      "execution_count": null,
      "outputs": [
        {
          "output_type": "stream",
          "name": "stdout",
          "text": [
            "6 [1, 2, 3]\n",
            "28 [1, 2, 4, 7, 14]\n",
            "496 [1, 2, 4, 8, 16, 31, 62, 124, 248]\n",
            "8128 [1, 2, 4, 8, 16, 32, 64, 127, 254, 508, 1016, 2032, 4064]\n"
          ]
        }
      ]
    },
    {
      "cell_type": "markdown",
      "source": [
        "1. **La fuerza de atracción gravitacional entre dos planetas de masas $m_1$ y $m_2$ separados por una distancia de $r$ metros está dada por la fórmula:**\n",
        "$$\n",
        "F=G \\frac{m_1 m_2}{r^2}\n",
        "$$\n",
        "  **donde** $G=6.67428 \\times 10^{-11}\\left[\\mathrm{~m}^3 \\mathrm{~kg}^{-1} \\mathrm{~s}^{-2}\\right]$ **es la constante de gravitación universal.\n",
        "Escriba un función que reciba como parámetro las masas de los planetas y su distancia, y entregue la fuerza de atracción entre ellos.**"
      ],
      "metadata": {
        "id": "LuNek_uezt7q"
      }
    },
    {
      "cell_type": "code",
      "execution_count": null,
      "metadata": {
        "id": "07sfunmczn5v"
      },
      "outputs": [],
      "source": [
        "def fuerzaAtraccion(masa1, masa2, distancia):\n",
        "  G = 6.67428 * (10**-11)\n",
        "  return G * masa1 * masa2 / (distancia ** 2)"
      ]
    },
    {
      "cell_type": "code",
      "source": [
        "tierra = 1.989 * (10**30)\n",
        "sol = 5.972 * (10**24)\n",
        "distancia = 1.496 * (10**11)\n",
        "\n",
        "print(fuerzaAtraccion(tierra, sol, distancia))"
      ],
      "metadata": {
        "colab": {
          "base_uri": "https://localhost:8080/"
        },
        "id": "JM9IlLBE0ffN",
        "outputId": "5d6f87e9-a975-442c-d0c6-475c783205d4"
      },
      "execution_count": null,
      "outputs": [
        {
          "output_type": "stream",
          "name": "stdout",
          "text": [
            "3.542385466334468e+22\n"
          ]
        }
      ]
    },
    {
      "cell_type": "markdown",
      "source": [
        "2.**Escriba las funciones que reciban el radio de una circunferencia y calcule el perímetro\n",
        "y el área respectivamente**"
      ],
      "metadata": {
        "id": "iKF09Nq7ZBUc"
      }
    },
    {
      "cell_type": "code",
      "source": [
        "def perimetro( r ) :\n",
        "  pi = 3.1415926535897931\n",
        "  return pi * r *2\n",
        "\n",
        "def area( r ) :\n",
        "  pi = 3.1415926535897931\n",
        "  return pi * r **2"
      ],
      "metadata": {
        "id": "cDG_eLa6ZLe8"
      },
      "execution_count": null,
      "outputs": []
    },
    {
      "cell_type": "code",
      "source": [
        "radio = float(input(\"Ingrese el radio: \"))\n",
        "\n",
        "print(\"El perimetro es: \", perimetro(radio) )\n",
        "print(\"El area es: \", area(radio) )"
      ],
      "metadata": {
        "colab": {
          "base_uri": "https://localhost:8080/"
        },
        "id": "UyoeL8t6Zawj",
        "outputId": "bfccd136-4112-4182-9184-ebabbb0eafc0"
      },
      "execution_count": null,
      "outputs": [
        {
          "output_type": "stream",
          "name": "stdout",
          "text": [
            "Ingrese el radio: 5\n",
            "El perimetro es:  31.41592653589793\n",
            "El area es:  78.53981633974483\n"
          ]
        }
      ]
    },
    {
      "cell_type": "markdown",
      "source": [
        "3. **Escriba una función que reciba como párametro una cantidad de minutos y entregue como salidla misma cantidad de minutos pero en horas y minutos.**"
      ],
      "metadata": {
        "id": "bGY8Gsw76NCR"
      }
    },
    {
      "cell_type": "code",
      "source": [
        "def horasYMinutos(min):                        #120\n",
        "  horas = min // 60                            #180 // 60 = 3\n",
        "\n",
        "  print(f\"{min} minutos = \",end=\"\")\n",
        "\n",
        "  if min%60 == 0:                               #180 % 60 == 0\n",
        "    print(horas, \"hora(s)\")\n",
        "  else:\n",
        "    minutos = min - (horas*60)                            #132 - (2*60) = 12\n",
        "    print(horas, f\"hora(s) y {minutos} minutos(s)\")\n",
        "\n"
      ],
      "metadata": {
        "id": "R39PSPth6chn"
      },
      "execution_count": null,
      "outputs": []
    },
    {
      "cell_type": "code",
      "source": [
        "horasYMinutos(180)\n",
        "horasYMinutos(200)"
      ],
      "metadata": {
        "colab": {
          "base_uri": "https://localhost:8080/"
        },
        "id": "_13pQdFP6oDR",
        "outputId": "3c5ca931-52ba-43d9-90af-37b75a503867"
      },
      "execution_count": null,
      "outputs": [
        {
          "output_type": "stream",
          "name": "stdout",
          "text": [
            "180 minutos = 3 hora(s)\n",
            "200 minutos = 3 hora(s) y 20 minutos(s)\n"
          ]
        }
      ]
    },
    {
      "cell_type": "markdown",
      "source": [
        "4. **Escriba una función que reciba como parámetro un número $n$ y entregue como salida, el factorial de $n$, que viene dado por:**\n",
        "$$\n",
        "n !=1 \\times 2 \\times 3 \\times \\cdots \\times(n-1) \\times n\n",
        "$$"
      ],
      "metadata": {
        "id": "3-7Puo3Ae1o_"
      }
    },
    {
      "cell_type": "code",
      "source": [
        "def factorial(n):\n",
        "  fact = 1\n",
        "  for i in range(1,n+1):\n",
        "    fact *= i\n",
        "  return fact"
      ],
      "metadata": {
        "id": "Ecy2QgKOe4zN"
      },
      "execution_count": null,
      "outputs": []
    },
    {
      "cell_type": "code",
      "source": [
        "num = int(input(\"Ingrese el numero: \"))\n",
        "\n",
        "print(f\"El factorial de {num} es \", factorial(num))"
      ],
      "metadata": {
        "colab": {
          "base_uri": "https://localhost:8080/"
        },
        "id": "ucxL1dTFfCY1",
        "outputId": "152917b9-2346-4284-8504-5f9ff5b80f02"
      },
      "execution_count": null,
      "outputs": [
        {
          "output_type": "stream",
          "name": "stdout",
          "text": [
            "Ingrese el numero: 5\n",
            "El factorial de 5 es  120\n"
          ]
        }
      ]
    },
    {
      "cell_type": "markdown",
      "source": [
        "5. **El doble factorial de $n$ se define mediante la relación de recurrencia,**\n",
        "$$\n",
        "n ! != \\begin{cases}1 & \\text { si } n \\leq 0 \\\\ (n-2) ! ! \\times n & \\text { si } n>0\\end{cases}\n",
        "$$\n",
        "  **Por ejemplo:**\n",
        "$$\n",
        "\\begin{aligned}\n",
        "& 8 ! !=2 \\times 4 \\times 6 \\times 8=384 \\\\\n",
        "& 9 ! !=1 \\times 3 \\times 5 \\times 7 \\times 9=945\n",
        "\\end{aligned}\n",
        "$$\n",
        "  **Escriba una función que permita calcular el doble factorial de n ( $n$ !!) .**"
      ],
      "metadata": {
        "id": "EzAv1HbM2ZZM"
      }
    },
    {
      "cell_type": "code",
      "source": [
        "def dobleFactorial(num):              #9\n",
        "  if num%2==0:                        #9 % 2 != 0\n",
        "    start = 2\n",
        "  else:\n",
        "    start = 1\n",
        "\n",
        "  print(f\"{num}!! = \", end=\"\")\n",
        "\n",
        "  fact = 1\n",
        "\n",
        "  for i in range(start, num+1, 2):           #11\n",
        "    fact *= i                                #105 * 9 = 945\n",
        "\n",
        "  print(fact)\n"
      ],
      "metadata": {
        "id": "cZ0qg7_C3kyl"
      },
      "execution_count": null,
      "outputs": []
    },
    {
      "cell_type": "code",
      "source": [
        "dobleFactorial(8)\n",
        "dobleFactorial(9)\n"
      ],
      "metadata": {
        "colab": {
          "base_uri": "https://localhost:8080/"
        },
        "id": "-n4QEJXO4NR2",
        "outputId": "5ef472e4-3d60-4def-b809-4e113984402f"
      },
      "execution_count": null,
      "outputs": [
        {
          "output_type": "stream",
          "name": "stdout",
          "text": [
            "8!! = 384\n",
            "9!! = 945\n"
          ]
        }
      ]
    },
    {
      "cell_type": "markdown",
      "source": [
        "6. **El teorema de probabilidad de Oak-Rowan, es un teorema extendido en el mundo de los Pokémon, el teorema indica que la probabilidad de capturar un Pokémon en la Zona Safari de la región de Kanto usando una Safari Ball y en condiciones normales, se puede calcular mediante la siguiente ecuación:**\n",
        "$$\n",
        "\\text { Probabilidad de captura }\\left(S_t, T, n\\right)=\\prod_{i=0}^n\\left(1-\\frac{4\\left(S_t-F^T\\right)^2}{\\pi^2(2 i-1)^2}\\right)\n",
        "$$\n",
        "  **Donde $0<S_t \\leq 1$ es la salud total máxima del Pokémon, $F$ es el nivel de felicidad del Pokémon y $0<T \\leq 5$ es el grado de Timidez-Agresividad del Pokémon. Escriba una función para calcular el valor de la probabilidad de captura para pokemones con nivel de felicidad de 1.19909 , donde $n \\geq 10000$.**"
      ],
      "metadata": {
        "id": "K_gJsTQK5xGF"
      }
    },
    {
      "cell_type": "code",
      "source": [],
      "metadata": {
        "id": "QABcMJB5gCBB"
      },
      "execution_count": null,
      "outputs": []
    },
    {
      "cell_type": "code",
      "source": [],
      "metadata": {
        "id": "xleFqj-zNY0p"
      },
      "execution_count": null,
      "outputs": []
    },
    {
      "cell_type": "markdown",
      "source": [
        "7. **Un punto en el plano cartesiano viene dado por una coordenada x y una coordenada\n",
        "y. Un rect\u0013angulo R puede ser representado mediante dos puntos R(p1; p2) donde p1 es\n",
        "la esquina inferior izquierda y p2 es la esquina superior derecha.**\n",
        "\n",
        "- Escriba la funci\u0013on distancia(x1,y1,x2,y2) que calcule la distancia Euclediana\n",
        "entre el punto p1 = (x1,y1) y p2 = (x2,y2).\n",
        "\n",
        "- Escriba la funci\u0013on perimetro(x1,y1,x2,y2) que calcule el per\u0013\u0010metro de un rect\u0013angulo\n",
        "R, donde p1 = (x1,y1) es la esquina inferior izquierda y p2 = (x2,y2) es la esquina\n",
        "superior derecha.\n",
        "\n",
        "- Escriba la funci\u0013on circEnRec(xc,yc,rc,x1,y1,x2,y2) que retorne True si la\n",
        "circunferencia con centro pc = (xc,yc) y radio rc se encuentra contenida en el\n",
        "rect\u0013angulo R(p1; p2).\n",
        "\n",
        "- Escriba la funci\u0013on recEnCirc(xc,yc,rc,x1,y1,x2,y2) que retorne True si el\n",
        "rect\u0013angulo R(p1; p2) se encuentra contenido en la circunferencia con centro pc =\n",
        "(xc,yc) y radio rc."
      ],
      "metadata": {
        "id": "v9la6HROi1s2"
      }
    },
    {
      "cell_type": "code",
      "source": [
        "import math\n",
        "\n",
        "def distancia(p1,p2):\n",
        "  x = (p2[0]-p1[0])**2\n",
        "  y = (p2[1]-p1[1])**2\n",
        "  return math.sqrt(x+y)\n",
        "\n",
        "def perimetro(p1,p2):\n",
        "  base = p2[0] - p1[0]\n",
        "  altura = p2[1] - p1[1]\n",
        "  return 2*base + 2*altura\n"
      ],
      "metadata": {
        "id": "1D6ZWNEbl_zd"
      },
      "execution_count": null,
      "outputs": []
    },
    {
      "cell_type": "code",
      "source": [
        "p1 = [1,2]\n",
        "p2 = [3,3]\n",
        "\n",
        "print(distancia(p1,p2))\n",
        "print(perimetro(p1,p2))"
      ],
      "metadata": {
        "colab": {
          "base_uri": "https://localhost:8080/"
        },
        "id": "Z6SNk1oUlwhg",
        "outputId": "2c0d70c7-5878-406f-de93-da2fc71eabfc"
      },
      "execution_count": null,
      "outputs": [
        {
          "output_type": "stream",
          "name": "stdout",
          "text": [
            "2.23606797749979\n",
            "6\n"
          ]
        }
      ]
    },
    {
      "cell_type": "markdown",
      "source": [
        "8. **Construya una funci\u0013on que reciba como par\u0013ametro una palabra y un entero posicion\n",
        "y retorne la primera mitad de la palabra, en caso de que el valor de posicion sea 0, o\n",
        "la segunda mitad de la palabra, en caso de que el valor de posicion sea 1. Si la palabra\n",
        "tiene largo impar, la letra central debe ir tanto en la primera como en la segunda mitad.**"
      ],
      "metadata": {
        "id": "hkyuHDmkNaGr"
      }
    },
    {
      "cell_type": "code",
      "source": [
        "def mitadPalabra(palabra, mitad):         #\"parrillas\", 1\n",
        "  centro = len(palabra) // 2              #centro = 9 // 2 = 4\n",
        "\n",
        "  if len(palabra)%2 == 0:                 #9%2 != 0    --- impar = 1\n",
        "    impar = 0\n",
        "  else:\n",
        "    impar = 1\n",
        "\n",
        "  if mitad == 0:                          #\"parrillas\"\n",
        "    return palabra[:centro + impar]\n",
        "  elif mitad == 1:\n",
        "    return palabra[centro:]\n",
        "  else:\n",
        "    return \"Mitad incorrecta\"\n",
        "\n"
      ],
      "metadata": {
        "id": "PUnfLxHcvEvD"
      },
      "execution_count": null,
      "outputs": []
    },
    {
      "cell_type": "code",
      "source": [
        "palabra = \"parrillas\"\n",
        "centro = 1\n",
        "\n",
        "print(mitadPalabra(palabra, centro))"
      ],
      "metadata": {
        "colab": {
          "base_uri": "https://localhost:8080/"
        },
        "id": "d9bUADWjvrpu",
        "outputId": "20a9b9a9-4448-43fd-8c97-35dcf9d0a88d"
      },
      "execution_count": null,
      "outputs": [
        {
          "output_type": "stream",
          "name": "stdout",
          "text": [
            "illas\n"
          ]
        }
      ]
    },
    {
      "cell_type": "markdown",
      "source": [
        "9. **En la Universidad María la Santa a los estudiantes que ingresan se les asigna un código de identificación, que consta de 12 dígitos que dan cuenta de la siguiente información:**\n",
        "\n",
        "  \"AAAA\" = año de ingreso\n",
        "\n",
        "  \"CCC\" = carrera\n",
        "\n",
        "  \"RRR\" = ranking\n",
        "\n",
        "  \"OO\" = origen\n",
        "\n",
        "  **Para alivianar la carga de las familias de algunos estudiantes, el centro de alumnos tiene la potestad para realizar descuentos en los aranceles de acuerdo a ciertas condiciones. Estas son:**\n",
        "\n",
        "  - **Si el estudiante lleva 2 años en la Universidad se le realizará un descuento del 5\\%; si lleva 3 años, un 15\\%, y si lleva 4 o más, un $25 \\%$.**\n",
        "\n",
        "  - **Si el estudiante ingresó dentro de los 10 primeros de su promoción obtendrá un $50 \\%$ de descuento; si entró entre los lugares 11 y 20 , un $30 \\%$, y si ingresó entre los lugares 21 y 30 , un $10 \\%$.**\n",
        "\n",
        "  - **Un estudiante solo puede obtener uno de los descuentos ofrecidos (el más alto).**\n",
        "\n",
        "  **Por ejemplo, el estudiante que posee el código 201202000201 se le otorgaría un $50 \\%$ de descuento en su arancel por estar entre los 10 primeros de su promoción, mientras el estudiante de código 200802402105 se le asignaría un 25\\% de descuento considerando el 2017 como año en curso ya que ingresó en el año 2008.**\n",
        "\n",
        "  **Construya una función que reciba como parámetro el código del estudiante y retorne el descuento correspondiente.**"
      ],
      "metadata": {
        "id": "6EOUWc4ZKPdB"
      }
    },
    {
      "cell_type": "code",
      "source": [
        "def descuentoPermanencia(anio):                #\"2016\"\n",
        "  anio = int(anio)                             #2016\n",
        "  anioActual = 2017\n",
        "\n",
        "  estadia = anioActual - anio                  #2017 - 2016 = 1\n",
        "\n",
        "  if estadia == 2:                             #1 != 2\n",
        "    return 5\n",
        "  elif estadia == 3:                           #1 != 3\n",
        "    return 15\n",
        "  elif estadia > 3:                            #1 > 3\n",
        "    return 25\n",
        "  else:\n",
        "    return 0\n",
        "\n",
        "def descuentoPromocion(ranking):              #\"023\"\n",
        "  ranking = int(ranking)                      #23\n",
        "\n",
        "  if ranking <= 10:                           #23 <= 10\n",
        "    return 50\n",
        "  elif ranking > 10 and ranking <= 20:         #23 > 10 and 23 < 20\n",
        "    return 30\n",
        "  elif ranking > 20 and ranking < 30:        #23 >= 20 and 23 < 30\n",
        "    return 10\n",
        "  else:\n",
        "    return 0\n",
        "\n",
        "def procesarCodigo(codigo):                      #\"200802402105\"\n",
        "  anio = codigo[:4]                              #\"2008\"\n",
        "  carrera = codigo[4:7]                          #\"024\"\n",
        "  ranking = codigo[7:10]                         #\"021\"\n",
        "  origen = codigo[10:]                           #\"05\"\n",
        "\n",
        "  descPerma = descuentoPermanencia(anio)         #\"2008\" = 25%\n",
        "  descRank = descuentoPromocion(ranking)         #\"021\" = 10%\n",
        "\n",
        "  if descPerma > descRank:                       #25 > 10\n",
        "    return descPerma\n",
        "  else:\n",
        "    return descRank\n"
      ],
      "metadata": {
        "id": "6jNkk9GNLORr"
      },
      "execution_count": null,
      "outputs": []
    },
    {
      "cell_type": "code",
      "source": [
        "#codigo = \"201202000201\"\n",
        "codigo = \"200802402105\"\n",
        "\n",
        "desc = procesarCodigo(codigo)\n",
        "\n",
        "print(f\"El estudiante recibirá {desc}% de dscto \")"
      ],
      "metadata": {
        "colab": {
          "base_uri": "https://localhost:8080/"
        },
        "id": "du6D7M_8NxXG",
        "outputId": "c93a4a18-4900-40e4-968c-decd2f662095"
      },
      "execution_count": null,
      "outputs": [
        {
          "output_type": "stream",
          "name": "stdout",
          "text": [
            "El estudiante recibirá 25% de dscto \n"
          ]
        }
      ]
    },
    {
      "cell_type": "markdown",
      "source": [
        "10. **La empresa de Telecomunicaciones AI-FONE ha decidido ofrecer a sus clientes, un\n",
        "servicio de mensajería de alerta para el consumo del plan de datos móviles. Este\n",
        "servicio consiste en que cada vez que el cliente sobrepase algún límite establecido debe\n",
        "recibir un mensaje de advertencia. Los mensajes vienen establecidos de la siguiente\n",
        "manera:**\n",
        "\n",
        "  - $1^{\\text {er }}$ mensaje: $50 \\%$ de consumo del plan.\n",
        "  - $2^{\\text {do }}$ mensaje: $80 \\%$ de consumo del plan.\n",
        "  - $3^{\\text {er }}$ mensaje: $100 \\%$ de consumo del plan.\n",
        "\n",
        "\n",
        "  **Si el cliente consume el 100% del plan, la compañía procede a suspender el servicio.**\n",
        "  **Considere que cada mensaje tiene un cargo de $150.**\n",
        "\n",
        "  **Construya una función que permita a AI-FONE establecer el servicio de mensajes para sus clientes. Considere como entrada la cantidad de GB que tiene el plan. El algoritmo debe consultar por cada consumo diario del cliente. Cuando el consumo sea 0 se termina de preguntar o cuando el consumo ha alcanzado el 100% del plan. La función debe retornar el cargo total.**"
      ],
      "metadata": {
        "id": "IQCy__EKQArm"
      }
    },
    {
      "cell_type": "code",
      "source": [
        "def usoPlan(totalActualMB, totalPlanMB, cobro):\n",
        "  if totalActualMB >= totalPlanMB:\n",
        "    print(\"Has usado el 100% de tu plan\")\n",
        "    return 150, cobro\n",
        "  elif totalActualMB > totalPlanMB*0.8 and totalActualMB < totalPlanMB and cobro == 2:\n",
        "    print(\"Has usado el 80% de tu plan\")\n",
        "    return 150, 3\n",
        "  elif totalActualMB > totalPlanMB / 2 and cobro == 1:\n",
        "    print(\"Has usado el 50% de tu plan\")\n",
        "    return 150, 2\n",
        "  else:\n",
        "    return 0, cobro\n",
        "\n",
        "def cargo(totalPlanGB):\n",
        "  totalPlanMB = totalPlanGB * 1000\n",
        "  totalActualMB = 0\n",
        "  cargoTotal = 0\n",
        "  cobro = 1\n",
        "\n",
        "  while totalActualMB < totalPlanMB:\n",
        "    usoDiarioMB = int(input(\"Ingrese la cantidad de MB usados en el dia: \"))\n",
        "    totalActualMB += usoDiarioMB\n",
        "    cargo, cobro = usoPlan(totalActualMB, totalPlanMB, cobro)\n",
        "    cargoTotal += cargo\n",
        "    print(f\"Le quedan {int(totalPlanMB - totalActualMB)}MB\")\n",
        "\n",
        "  return cargoTotal\n",
        "\n"
      ],
      "metadata": {
        "id": "5HPOpEpQQtqp"
      },
      "execution_count": null,
      "outputs": []
    },
    {
      "cell_type": "code",
      "source": [
        "tamanioPlan = 1\n",
        "\n",
        "cargoTotal = cargo(tamanioPlan)\n",
        "\n",
        "\n",
        "print(f\"Su cargo es de ${cargoTotal}\")"
      ],
      "metadata": {
        "colab": {
          "base_uri": "https://localhost:8080/"
        },
        "id": "WXumAMAVUPjK",
        "outputId": "a7b05eda-11ef-4ab8-8cce-cd83a36c2ca2"
      },
      "execution_count": null,
      "outputs": [
        {
          "output_type": "stream",
          "name": "stdout",
          "text": [
            "Ingrese la cantidad de MB usados en el dia: 500\n",
            "Le quedan 500MB\n",
            "Ingrese la cantidad de MB usados en el dia: 1\n",
            "Has usado el 50% de tu plan\n",
            "Le quedan 499MB\n",
            "Ingrese la cantidad de MB usados en el dia: 99\n",
            "Le quedan 400MB\n",
            "Ingrese la cantidad de MB usados en el dia: 2\n",
            "Le quedan 398MB\n",
            "Ingrese la cantidad de MB usados en el dia: 198\n",
            "Le quedan 200MB\n",
            "Ingrese la cantidad de MB usados en el dia: 1\n",
            "Has usado el 80% de tu plan\n",
            "Le quedan 199MB\n",
            "Ingrese la cantidad de MB usados en el dia: 199\n",
            "Has usado el 100% de tu plan\n",
            "Le quedan 0MB\n",
            "Su cargo es de $450\n"
          ]
        }
      ]
    }
  ]
}