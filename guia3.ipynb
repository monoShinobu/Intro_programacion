{
  "nbformat": 4,
  "nbformat_minor": 0,
  "metadata": {
    "colab": {
      "provenance": []
    },
    "kernelspec": {
      "name": "python3",
      "display_name": "Python 3"
    },
    "language_info": {
      "name": "python"
    }
  },
  "cells": [
    {
      "cell_type": "markdown",
      "source": [
        "**1. Escriba un programa que genere un numero al azar desde 0 a 99 y pregunte al usuario\n",
        "constantemente hasta que lo adivine, cada vez que el usuario pregunte por el numero,\n",
        "el programa debe decirle si el numero es mayor o menor al valor ingresado, tambien\n",
        "debe señalar cuantos intentos realizo.**"
      ],
      "metadata": {
        "id": "GCYnj2wOnVXV"
      }
    },
    {
      "cell_type": "code",
      "source": [
        "import random\n",
        "\n",
        "numero = random.randint(0,99)\n",
        "intentos = 0\n",
        "\n",
        "while intentos != -1:\n",
        "  intentos += 1\n",
        "  num = int(input(\"Ingrese un numero: \"))\n",
        "  if num > numero:\n",
        "    print(\"El numero es menor\")\n",
        "  elif num < numero:\n",
        "    print(\"El numero es mayor\")\n",
        "  else:\n",
        "    print(\"Adivinaste el numero\")\n",
        "    break\n",
        "\n",
        "print(\"Tus intentos fueron: \", intentos)"
      ],
      "metadata": {
        "colab": {
          "base_uri": "https://localhost:8080/"
        },
        "id": "uqGVlxvyOazF",
        "outputId": "2a06e55a-c785-4907-874a-e644ed309028"
      },
      "execution_count": null,
      "outputs": [
        {
          "output_type": "stream",
          "name": "stdout",
          "text": [
            "Ingrese un numero: 50\n",
            "El numero es mayor\n",
            "Ingrese un numero: 75\n",
            "El numero es menor\n",
            "Ingrese un numero: 63\n",
            "El numero es mayor\n",
            "Ingrese un numero: 70\n",
            "El numero es menor\n",
            "Ingrese un numero: 67\n",
            "El numero es mayor\n",
            "Ingrese un numero: 69\n",
            "Adivinaste el numero\n",
            "Tus intentos fueron:  6\n"
          ]
        }
      ]
    },
    {
      "cell_type": "markdown",
      "source": [
        "**2. Programe un script que calcule el factorial de un n\u0013umero n. Recuerde que la f\u0013ormula\n",
        "para calcular el factorial de un n\u0013umero n es:**\n",
        "\\begin{align}\n",
        "n! = 1*2*3....*(n-1)-n\n",
        "\\end{align}\n"
      ],
      "metadata": {
        "id": "jyDqKHBOpuvN"
      }
    },
    {
      "cell_type": "code",
      "source": [
        "numero = int(input(\"Ingrese numero \"))\n",
        "fact = 1\n",
        "\n",
        "i = 0\n",
        "\n",
        "while(i<numero):\n",
        "  fact = fact * (i+1)\n",
        "  i += 1\n",
        "\n",
        "print(f\"El factorial de {numero} es {fact}\")"
      ],
      "metadata": {
        "colab": {
          "base_uri": "https://localhost:8080/"
        },
        "id": "Jg26Nl0dqItw",
        "outputId": "9423c976-19cd-483c-814f-da139d24a6c6"
      },
      "execution_count": null,
      "outputs": [
        {
          "output_type": "stream",
          "name": "stdout",
          "text": [
            "Ingrese numero 5\n",
            "El factorial de 5 es 120\n"
          ]
        }
      ]
    },
    {
      "cell_type": "markdown",
      "source": [
        "**3. Un grupo de tres niños se sienta en un circulo. Inicialmente, cada niño tiene un numero par de chocolates. Cuando el profesor hace sonar una campana, cada niño le da la mitad de sus chocolates a su vecino de la izquierda (en forma simultanea). Despues de cada intercambio de chocolates, el profesor le entrega un chocolate extra a cada niño que se\n",
        "qued\u0013o con un n\u0013umero impar de chocolates. El juego termina cuando todos los niños tienen la misma cantidad de chocolates.\n",
        "Desarrolle un programa que lea cuantos chocolates tiene cada niño inicialmente y calcule (y escriba) cuantos chocolates tienen al final, y cuantas veces se debio hacer sonar la campana. Por ejemplo, si Niño 1 comienza con 2 chocolates, Niño 2 con 4 y Niño 3 con 6, entonces\n",
        "cada niño termina con 6 chocolates y el profesor toco la campana 3 veces.**"
      ],
      "metadata": {
        "id": "Eqfx1D8fqwk_"
      }
    },
    {
      "cell_type": "code",
      "source": [
        "print(\"Recuerde que las cantidades deben ser par\")\n",
        "nino1 = int(input(\"Ingrese chocolate del niño 1: \"))\n",
        "nino2 = int(input(\"Ingrese chocolate del niño 2: \"))\n",
        "nino3 = int(input(\"Ingrese chocolate del niño 3: \"))\n",
        "\n",
        "campanadas = 0\n",
        "\n",
        "while True:\n",
        "  campanadas += 1\n",
        "  mitadNino1 = nino1/2\n",
        "  mitadNino2 = nino2/2\n",
        "  mitadNino3 = nino3/2\n",
        "\n",
        "  nino1 = mitadNino1 + mitadNino3\n",
        "  nino2 = mitadNino2 + mitadNino1\n",
        "  nino3 = mitadNino3 + mitadNino2\n",
        "\n",
        "  #14 / 2 = 7\n",
        "  # 0\n",
        "\n",
        "  #5 / 2 = 4,5\n",
        "  #10\n",
        "  # 0\n",
        "\n",
        "  if nino1%2 != 0:\n",
        "    nino1 += 1\n",
        "\n",
        "  if nino2%2 != 0:\n",
        "    nino2 += 1\n",
        "\n",
        "  if nino3%2 != 0:\n",
        "    nino3 += 1\n",
        "\n",
        "  if nino1 == nino2 and nino2 == nino3 and nino3 == nino1:\n",
        "    break\n",
        "\n",
        "print(f\"Los niños quedaron con {int(nino1)} chocolates en {campanadas} campanadas\")\n"
      ],
      "metadata": {
        "colab": {
          "base_uri": "https://localhost:8080/"
        },
        "id": "lf_WIhw1Rs_4",
        "outputId": "78b3e1d9-18a2-4142-f768-ad5ba28703fd"
      },
      "execution_count": null,
      "outputs": [
        {
          "output_type": "stream",
          "name": "stdout",
          "text": [
            "Recuerde que las cantidades deben ser par\n",
            "Ingrese chocolate del niño 1: 2\n",
            "Ingrese chocolate del niño 2: 10\n",
            "Ingrese chocolate del niño 3: 8\n",
            "Los niños quedaron con 8 chocolates en 3 campanadas\n"
          ]
        }
      ]
    },
    {
      "cell_type": "code",
      "source": [
        "print(\"Recuerde que las cantidades deben ser par\")\n",
        "nino1 = int(input(\"Ingrese chocolate del niño 1: \"))\n",
        "nino2 = int(input(\"Ingrese chocolate del niño 2: \"))\n",
        "nino3 = int(input(\"Ingrese chocolate del niño 3: \"))\n",
        "\n",
        "\n",
        "if (nino1%2 == 0 and nino2%2 == 0 and nino3%2 == 0 ):\n",
        "  campanadas = 0\n",
        "  while True:\n",
        "    campanadas += 1\n",
        "    nino1Aux = nino1\n",
        "    nino2Aux = nino2\n",
        "    nino3Aux = nino3\n",
        "\n",
        "    nino2 = nino1Aux/2 + nino2Aux/2\n",
        "    nino3 = nino2Aux/2 + nino3Aux/2\n",
        "    nino1 = nino3Aux/2 + nino1Aux/2\n",
        "\n",
        "    if nino1%2 != 0:\n",
        "      nino1 += 1\n",
        "\n",
        "    if nino2%2 != 0:\n",
        "      nino2 += 1\n",
        "\n",
        "    if nino3%2 != 0:\n",
        "      nino3 += 1\n",
        "\n",
        "    if nino1 == nino2 and nino2 == nino3 and nino3== nino1:\n",
        "      break\n",
        "  print(f\"Los niños quedaron con {int(nino1)} chocolates en {campanadas} campanadas\")\n",
        "else:\n",
        "  print(\"Ingresó los chocolates de un niño sin cantidad par\")\n"
      ],
      "metadata": {
        "colab": {
          "base_uri": "https://localhost:8080/"
        },
        "id": "Q4gga0B2q1Pt",
        "outputId": "29077888-d2dd-47f5-da0b-4ddd3c2fbb7f"
      },
      "execution_count": null,
      "outputs": [
        {
          "output_type": "stream",
          "name": "stdout",
          "text": [
            "Recuerde que las cantidades deben ser par\n",
            "Ingrese chocolate del niño 1: 2\n",
            "Ingrese chocolate del niño 2: 4\n",
            "Ingrese chocolate del niño 3: 8\n",
            "Los niños quedaron con 6 chocolates en 2 campanadas\n"
          ]
        }
      ]
    },
    {
      "cell_type": "markdown",
      "source": [
        "**4. Desarrolle un programa que calcule y escriba la suma de la serie de Fibonacci hasta el\n",
        "termino n (a leer). La serie de Fibonacci viene dada por:**\n",
        "\n",
        "\\begin{equation}\n",
        "F0 = 0 \\\\\n",
        "F1 = 1 \\\\\n",
        "Fk = F_{k-1} + F_{k-2} \\, cuando \\ k \\geq 2\n",
        "\\end{equation}"
      ],
      "metadata": {
        "id": "Mq8WqH1TU-z9"
      }
    },
    {
      "cell_type": "code",
      "source": [
        "\n",
        "while True:\n",
        "  n = int(input(\"Ingrese termino: \"))\n",
        "  if n<1:\n",
        "    print(\"Ingrese un número valido\")\n",
        "  else:\n",
        "    break\n",
        "\n",
        "F0 = 0\n",
        "F1 = 1\n",
        "\n",
        "if n == 1:\n",
        "  F2 = 0\n",
        "elif n == 2:\n",
        "  F2 = 1\n",
        "else:\n",
        "  a = 2\n",
        "  while a<n:       #(7) <= (6)\n",
        "    F2 = F0 + F1\n",
        "    F0 = F1\n",
        "    F1 = F2\n",
        "    a += 1\n",
        "\n",
        "print(f\"El termino {n} en la secuencia de fibonacci corresponde a {F2}\")"
      ],
      "metadata": {
        "colab": {
          "base_uri": "https://localhost:8080/"
        },
        "id": "57e4VFPpQsED",
        "outputId": "52540820-0f52-4733-b7eb-c6720c579045"
      },
      "execution_count": null,
      "outputs": [
        {
          "output_type": "stream",
          "name": "stdout",
          "text": [
            "Ingrese termino: 3\n",
            "El termino 3 en la secuencia de fibonacci corresponde a 1\n"
          ]
        }
      ]
    },
    {
      "cell_type": "markdown",
      "source": [
        "**5. Desarrolle un programa que determine si un triangulo es rectangulo, obtusangulo o acutangulo. Recuerde que un triangulo es rectangulo si uno de sus angulos es recto\n",
        "90°, es obtusangulo, si uno de sus angulos es > 90° y acutangulo si todos sus angulos\n",
        "son < 90°, ademas su algoritmo debe pedir nuevamente los angulos si no son validos\n",
        "para un triangulo.**"
      ],
      "metadata": {
        "id": "aKjjXTBbYzT3"
      }
    },
    {
      "cell_type": "code",
      "source": [
        "while True:\n",
        "  lado1 = float(input(\"Ingrese angulo 1 \"))\n",
        "  lado2 = float(input(\"Ingrese angulo 2 \"))\n",
        "  lado3 = float(input(\"Ingrese angulo 3 \"))\n",
        "\n",
        "  if lado1 + lado2 + lado3 == 180:\n",
        "    if lado1 == 90 or lado2 == 90 or lado3 == 90:\n",
        "      print(\"El triángulo es RECTÁNGULO\")\n",
        "    elif lado1 > 90 or lado2 > 90 or lado3 > 90:\n",
        "      print(\"El triángulo es OBSTUSÁNGULO\")\n",
        "    else:\n",
        "      print(\"El triángulo es ACUTÁNGULO\")\n",
        "\n",
        "    contAux = input(\"Continuar? (S/N)\")\n",
        "    if contAux == \"N\":\n",
        "      break\n",
        "\n",
        "  else:\n",
        "    print(\"Lados erroneos, ingreselo nuevamente\")\n",
        "\n",
        "\n"
      ],
      "metadata": {
        "colab": {
          "base_uri": "https://localhost:8080/"
        },
        "id": "TAjOZSkbY2eQ",
        "outputId": "d4e7a70f-fdcb-450b-caa7-4b2a3d357b60"
      },
      "execution_count": null,
      "outputs": [
        {
          "name": "stdout",
          "output_type": "stream",
          "text": [
            "Ingrese angulo 1 100\n",
            "Ingrese angulo 2 40\n",
            "Ingrese angulo 3 40\n",
            "El triángulo es OBSTUSÁNGULO\n",
            "Continuar? (S/N)S\n",
            "Ingrese angulo 1 60\n",
            "Ingrese angulo 2 60\n",
            "Ingrese angulo 3 60\n",
            "El triángulo es ACUTÁNGULO\n",
            "Continuar? (S/N)N\n"
          ]
        }
      ]
    },
    {
      "cell_type": "markdown",
      "source": [
        "**6. En las competencias de clavados, cada salto es evaluado por un panel de siete jueces.\n",
        "Cada juez entrega una puntuaci\u0013on en una escala de 1 a 10, con incrementos de 0,5 .\n",
        "La puntuaci\u0013on m\u0013as alta y la m\u0013as baja son eliminadas. La suma de los cinco puntajes\n",
        "restantes es multiplicada por 0,6 , y el resultado es multiplicado por el grado de dificultad\n",
        "del salto. El valor obtenido es el puntaje total del salto. Desarrolle un programa\n",
        "que lea el grado de di\n",
        "cultad del salto y los 7 puntajes de los jueces, para luego mostrar\n",
        "por pantalla el puntaje total del salto. A continuaci\u0013on se muestra un ejemplo:**\n",
        "\n",
        "\\\\\n",
        "\n",
        "Grado de dificultad: 3.0 \\\\\n",
        "Juez 1: 5.0 \\\\\n",
        "Juez 2: 5.5 \\\\\n",
        "Juez 3: 4.0 \\\\\n",
        "Juez 4: 5.0 \\\\\n",
        "Juez 5: 4.5 \\\\\n",
        "Juez 6: 5.5 \\\\\n",
        "Juez 7: 5.0 \\\\\n",
        "El puntaje total es 45.0"
      ],
      "metadata": {
        "id": "vCLm3x4qgtPA"
      }
    },
    {
      "cell_type": "code",
      "source": [
        "grado = float(input(\"Ingrese el grado de dificultad: \"))\n",
        "juez1 = float(input(\"Juez 1: \"))\n",
        "juez2 = float(input(\"Juez 2: \"))\n",
        "juez3 = float(input(\"Juez 3: \"))\n",
        "juez4 = float(input(\"Juez 4: \"))\n",
        "juez5 = float(input(\"Juez 5: \"))\n",
        "juez6 = float(input(\"Juez 6: \"))\n",
        "juez7 = float(input(\"Juez 7: \"))\n",
        "\n",
        "jueces = [juez1, juez2, juez3, juez4, juez5, juez6, juez7]\n",
        "\n",
        "\n",
        "#buscar menor puntaje\n",
        "menor = jueces[0]\n",
        "i = 1\n",
        "while(i<7):\n",
        "  if jueces[i] < menor:\n",
        "    menor = jueces[i]\n",
        "  i += 1\n",
        "\n",
        "#buscar mayor\n",
        "mayor = jueces[0]\n",
        "i = 1\n",
        "while(i<7):\n",
        "  if jueces[i] > mayor:\n",
        "    mayor = jueces[i]\n",
        "  i += 1\n",
        "\n",
        "suma = juez1 + juez2 + juez3 + juez4 + juez5 + juez6 + juez7 - mayor - menor\n",
        "puntaje = suma * 0.6 * grado\n",
        "\n",
        "print(f\"El puntaje total es {puntaje}\")\n"
      ],
      "metadata": {
        "colab": {
          "base_uri": "https://localhost:8080/"
        },
        "id": "ckNstzOeg8kT",
        "outputId": "aa7ae502-7f52-460b-831c-b9a3db8051db"
      },
      "execution_count": null,
      "outputs": [
        {
          "output_type": "stream",
          "name": "stdout",
          "text": [
            "Ingrese el grado de dificultad: 3\n",
            "Juez 1: 5\n",
            "Juez 2: 5.5\n",
            "Juez 3: 4\n",
            "Juez 4: 5\n",
            "Juez 5: 4.5\n",
            "Juez 6: 5.5\n",
            "Juez 7: 5\n",
            "El puntaje total es 45.0\n"
          ]
        }
      ]
    },
    {
      "cell_type": "markdown",
      "source": [
        "7.Desarrolle un script que calcule y escriba todas las combinaciones que den por resultado\n",
        "un número n natural (≥ 6) al sumar 3 números naturales distintos.\n",
        "\n",
        "Ejemplo con n = 10 :\n",
        "\n",
        "1 + 2 + 7,\n",
        "\n",
        "1 + 3 + 6,\n",
        "\n",
        "1 + 4 + 5,\n",
        "\n",
        "2 + 3 + 5."
      ],
      "metadata": {
        "id": "QUTSmaw1U_pi"
      }
    },
    {
      "cell_type": "code",
      "source": [
        "#Esto está hecho con funciones, no es necesario que sepan esto\n",
        "\n",
        "def combinaciones(n):\n",
        "  for i in range(1, n):\n",
        "    for j in range(1, n):\n",
        "      for k in range(1, n):\n",
        "        if (i + j + k == n and (i != j and j != k and k!= i) and (i < j  and j < k)):\n",
        "          print(f\"{i} + {j} + {k}\")\n",
        "\n",
        "print(\"Combinaciones de 10\")\n",
        "combinaciones(10)\n",
        "\n",
        "print(\"Combinaciones de 12\")\n",
        "combinaciones(12)\n",
        "\n",
        "print(\"Combinaciones de 15\")\n",
        "combinaciones(15)"
      ],
      "metadata": {
        "colab": {
          "base_uri": "https://localhost:8080/"
        },
        "id": "vMQ-BLtHlaxz",
        "outputId": "4916b6f3-918a-40a7-d903-567995d29b3b"
      },
      "execution_count": null,
      "outputs": [
        {
          "output_type": "stream",
          "name": "stdout",
          "text": [
            "Combinaciones de 10\n",
            "1 + 2 + 7\n",
            "1 + 3 + 6\n",
            "1 + 4 + 5\n",
            "2 + 3 + 5\n",
            "Combinaciones de 12\n",
            "1 + 2 + 9\n",
            "1 + 3 + 8\n",
            "1 + 4 + 7\n",
            "1 + 5 + 6\n",
            "2 + 3 + 7\n",
            "2 + 4 + 6\n",
            "3 + 4 + 5\n",
            "Combinaciones de 15\n",
            "1 + 2 + 12\n",
            "1 + 3 + 11\n",
            "1 + 4 + 10\n",
            "1 + 5 + 9\n",
            "1 + 6 + 8\n",
            "2 + 3 + 10\n",
            "2 + 4 + 9\n",
            "2 + 5 + 8\n",
            "2 + 6 + 7\n",
            "3 + 4 + 8\n",
            "3 + 5 + 7\n",
            "4 + 5 + 6\n"
          ]
        }
      ]
    },
    {
      "cell_type": "code",
      "source": [
        "while True:\n",
        "  n = int(input(\"Ingrese el numero (> 6): \"))\n",
        "  if (n >= 6):\n",
        "    break\n",
        "\n",
        "for i in range(1, n):\n",
        "  for j in range(1, n):\n",
        "    for k in range(1, n):\n",
        "      if (i + j + k == n and (i != j and j != k and k!= i) and (i < j  and j < k)):\n",
        "        print(f\"{i} + {j} + {k}\")\n",
        "\n",
        "# 1 3 1"
      ],
      "metadata": {
        "colab": {
          "base_uri": "https://localhost:8080/"
        },
        "id": "qrL8sjMTVPGo",
        "outputId": "d5eed9ae-2fbd-407c-82b5-b6a7efa4f719"
      },
      "execution_count": null,
      "outputs": [
        {
          "output_type": "stream",
          "name": "stdout",
          "text": [
            "Ingrese el numero (> 6): 10\n",
            "1 + 2 + 7\n",
            "1 + 3 + 6\n",
            "1 + 4 + 5\n",
            "2 + 3 + 5\n"
          ]
        }
      ]
    },
    {
      "cell_type": "markdown",
      "source": [
        "8.El cifrado César consiste en aumentar cada dígito de un número en un valor determinado\n",
        "(llave), por ejemplo, si el número fuese 16753 y se codificara mediante cifrado César\n",
        "con llave = 1, el número quedaría 27864, como se aprecia cada dígito fue cambiado\n",
        "por el dígito siguiente, ya que el valor de la llave es 1. Cabe señalar que el conjunto\n",
        "se considera circular, es decir, si por ejemplo se quisiera codificar el número 38492\n",
        "mediante cifrado César con llave = 4, el resultado sería 72836.\n",
        "Desarrolle un programa que calcule el cifrado César de un número natural de 10 dígitos.\n",
        "Su algoritmo debe leer tanto el número natural como la llave del cifrado César"
      ],
      "metadata": {
        "id": "nLft0zMsaAWS"
      }
    },
    {
      "cell_type": "code",
      "source": [
        "llave = int(input(\"Ingrese la llave: \"))\n",
        "numero = input(\"Ingrese el numero: \")\n",
        "\n",
        "tamanio = len(numero)\n",
        "newNum = \"\"\n",
        "i=0\n",
        "while(i<tamanio):                    # 38492\n",
        "  numConv = int(numero[i])                  # 2\n",
        "  numConv = f\"{numConv + llave}\"            # 2 + 4 = \"6\"\n",
        "  newNum = newNum + f\"{numConv[-1]}\"        # \"7283\" + \"6\" = \"72836\"\n",
        "  i+=1\n",
        "\n",
        "print(f\"El numero {numero}, se convierte en {newNum}\")"
      ],
      "metadata": {
        "colab": {
          "base_uri": "https://localhost:8080/"
        },
        "id": "2Fh420s2Z_F3",
        "outputId": "b667ac60-5ad0-445e-cdd4-303baf0751dc"
      },
      "execution_count": null,
      "outputs": [
        {
          "output_type": "stream",
          "name": "stdout",
          "text": [
            "Ingrese la llave: 4\n",
            "Ingrese el numero: 38492\n",
            "El numero 38492, se convierte en 72836\n"
          ]
        }
      ]
    },
    {
      "cell_type": "markdown",
      "source": [
        "9.El juego del cuarteto es un juego sencillo que tiene 8 intentos para ganar. Cada intento consiste en ingresar cuatro números entre el rango N > 10 y N < 100.\n",
        "\n",
        "El jugador gana cuando se logran 3 intentos exitosos. Un intento es exitoso cuando se han ingresado 2 números pares consecutivos y luego 2 números impares consecutivos (o viceversa).\n",
        "\n",
        "Desarrolle un programa que permita jugar el cuarteto, asuma que todos los números ingresados son válidos, además, su algoritmo debe mostrar un mensaje “Usted ha ganado”\n",
        "cuando el jugador gana el cuarteto, de lo contrario debe mostrar “Usted ha perdido”."
      ],
      "metadata": {
        "id": "OElCthumd94a"
      }
    },
    {
      "cell_type": "code",
      "source": [
        "exito = 0\n",
        "i=0\n",
        "while(i<8):\n",
        "  print(\"Intento nro:\",i+1)\n",
        "\n",
        "  while True:\n",
        "    num1 = int(input(\"Ingrese el primer número: \"))\n",
        "    num2 = int(input(\"Ingrese el segundo número: \"))\n",
        "    num3 = int(input(\"Ingrese el tercero número: \"))\n",
        "    num4 = int(input(\"Ingrese el cuarto número: \"))\n",
        "\n",
        "    if (num1 >= 10 and num1 <= 100) and (num2 >= 10 and num2 <= 100) and (num3 >= 10 and num3 <= 100) and (num4 >= 10 and num4 <= 100):\n",
        "      break\n",
        "    else:\n",
        "      print(\"\\nIngrese bien los numeros\\n\")\n",
        "\n",
        "  if (num1 % 2 == 0) and (num2 % 2 == 0) and (num3 % 2 != 0) and (num4 % 2 != 0):\n",
        "    exito += 1\n",
        "\n",
        "  if (exito == 3):\n",
        "    print(\"Usted ha ganado\")\n",
        "    break\n",
        "  i+=1\n",
        "  print()\n",
        "\n",
        "if (exito < 3):\n",
        "  print(\"Usted ha perdido\")"
      ],
      "metadata": {
        "id": "GnpAhh3FeHJr",
        "colab": {
          "base_uri": "https://localhost:8080/"
        },
        "outputId": "f16f2a8c-b17d-4dba-c891-47f4b068244e"
      },
      "execution_count": null,
      "outputs": [
        {
          "output_type": "stream",
          "name": "stdout",
          "text": [
            "Intento nro: 1\n",
            "Ingrese el primer número: 10\n",
            "Ingrese el segundo número: 12\n",
            "Ingrese el tercero número: 11\n",
            "Ingrese el cuarto número: 13\n",
            "\n",
            "Intento nro: 2\n",
            "Ingrese el primer número: 14\n",
            "Ingrese el segundo número: 16\n",
            "Ingrese el tercero número: 15\n",
            "Ingrese el cuarto número: 17\n",
            "\n",
            "Intento nro: 3\n",
            "Ingrese el primer número: 18\n",
            "Ingrese el segundo número: 20\n",
            "Ingrese el tercero número: 19\n",
            "Ingrese el cuarto número: 21\n",
            "Usted ha ganado\n"
          ]
        }
      ]
    },
    {
      "cell_type": "markdown",
      "source": [
        "10. **Un viajero desea saber cuanto tiempo tomó un viaje que realizó. Él tiene la duración en minutos de cada uno de los tramos del viaje.\n",
        "Construya un programa que permita ingresar los tiempos de viaje de los tramos y\n",
        "entregue como resultado el tiempo total de viaje en formato horas:minutos.\n",
        "El programa deja de pedir tiempos de viaje cuando se ingresa un 0.**"
      ],
      "metadata": {
        "id": "zQFsxLQMHllO"
      }
    },
    {
      "cell_type": "code",
      "source": [
        "totalMin = 0\n",
        "\n",
        "while True:\n",
        "  tram = int(input(\"Duracion tramos: \"))\n",
        "  if(tram==0):\n",
        "    break\n",
        "  totalMin += tram\n",
        "\n",
        "min = totalMin%60\n",
        "\n",
        "if(min//10 == 0):\n",
        "  min = \"0\" + str(min)\n",
        "\n",
        "print(f\"Tiempo total de viaje {totalMin//60}:{min} horas\")"
      ],
      "metadata": {
        "colab": {
          "base_uri": "https://localhost:8080/"
        },
        "id": "9MCHewaeZg9d",
        "outputId": "5ff13abf-8f47-455f-fee0-f5d0dcfea9a6"
      },
      "execution_count": 3,
      "outputs": [
        {
          "output_type": "stream",
          "name": "stdout",
          "text": [
            "Duracion tramos: 51\n",
            "Duracion tramos: 17\n",
            "Duracion tramos: 0\n",
            "Tiempo total de viaje 1:08 hotras\n"
          ]
        }
      ]
    }
  ]
}